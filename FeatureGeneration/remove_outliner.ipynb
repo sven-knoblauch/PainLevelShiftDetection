{
 "cells": [
  {
   "cell_type": "code",
   "execution_count": 1,
   "metadata": {},
   "outputs": [],
   "source": [
    "from scipy.io import loadmat\n",
    "import pandas as pd\n",
    "\n",
    "from sklearn.ensemble import IsolationForest"
   ]
  },
  {
   "attachments": {},
   "cell_type": "markdown",
   "metadata": {},
   "source": [
    "load dataset"
   ]
  },
  {
   "cell_type": "code",
   "execution_count": 2,
   "metadata": {},
   "outputs": [],
   "source": [
    "path_dataset = \"D:\\Workspace\\workspace_masterarbeit\\PainLevelShiftDetection\\FeatureGeneration\\dataset_processed\\INTENSE\\\\normalized_subjects.pkl\"\n",
    "data = pd.read_pickle(path_dataset)"
   ]
  },
  {
   "attachments": {},
   "cell_type": "markdown",
   "metadata": {},
   "source": [
    "use Isolation Forest for outlier detection and remove outliers"
   ]
  },
  {
   "cell_type": "code",
   "execution_count": 3,
   "metadata": {},
   "outputs": [],
   "source": [
    "data_pain = data[data[\"pain\"]==1]\n",
    "data_pain = data_pain.drop([\"pain\", \"subject\"], axis=1)\n",
    "clf_pain = IsolationForest(random_state=0).fit(data_pain)\n",
    "pred_pain = clf_pain.predict(data_pain)\n",
    "\n",
    "data_pain = data[data[\"pain\"]==1]\n",
    "data_pain = data_pain[pred_pain>0]"
   ]
  },
  {
   "cell_type": "code",
   "execution_count": 4,
   "metadata": {},
   "outputs": [],
   "source": [
    "data_no_pain = data[data[\"pain\"]==0]\n",
    "data_no_pain = data_no_pain.drop([\"pain\", \"subject\"], axis=1)\n",
    "clf_pain = IsolationForest(random_state=0).fit(data_no_pain)\n",
    "pred_no_pain = clf_pain.predict(data_no_pain)\n",
    "\n",
    "data_no_pain = data[data[\"pain\"]==0]\n",
    "data_no_pain = data_no_pain[pred_no_pain>0]"
   ]
  },
  {
   "cell_type": "code",
   "execution_count": 5,
   "metadata": {},
   "outputs": [],
   "source": [
    "tmp = pd.concat([data_pain, data_no_pain])"
   ]
  },
  {
   "attachments": {},
   "cell_type": "markdown",
   "metadata": {},
   "source": [
    "save data"
   ]
  },
  {
   "cell_type": "code",
   "execution_count": 6,
   "metadata": {},
   "outputs": [],
   "source": [
    "tmp.to_pickle(\"D:\\Workspace\\workspace_masterarbeit\\PainLevelShiftDetection\\FeatureGeneration\\dataset_processed\\INTENSE\\\\normalized_subjects_no_outliner.pkl\")"
   ]
  }
 ],
 "metadata": {
  "kernelspec": {
   "display_name": "Python 3.8.15",
   "language": "python",
   "name": "python3"
  },
  "language_info": {
   "codemirror_mode": {
    "name": "ipython",
    "version": 3
   },
   "file_extension": ".py",
   "mimetype": "text/x-python",
   "name": "python",
   "nbconvert_exporter": "python",
   "pygments_lexer": "ipython3",
   "version": "3.8.15"
  },
  "orig_nbformat": 4,
  "vscode": {
   "interpreter": {
    "hash": "15553fa20e7e98b2aa17988b3683b9c4372a086618e2f531c95263c140b6e43e"
   }
  }
 },
 "nbformat": 4,
 "nbformat_minor": 2
}
