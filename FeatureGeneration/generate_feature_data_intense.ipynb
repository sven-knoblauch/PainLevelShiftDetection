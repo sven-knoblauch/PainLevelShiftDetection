{
 "cells": [
  {
   "cell_type": "code",
   "execution_count": 1,
   "metadata": {},
   "outputs": [],
   "source": [
    "import warnings\n",
    "warnings.filterwarnings('ignore')\n",
    "from classes.dataset_helper_intense import DatasetTimeFrameGeneratorINTENSE\n",
    "from tqdm.auto import tqdm\n",
    "import os\n",
    "from scipy.io import loadmat"
   ]
  },
  {
   "cell_type": "code",
   "execution_count": 19,
   "metadata": {},
   "outputs": [],
   "source": [
    "path = \"D:\\Studium\\Master\\Masterarbeit\\datasets\\INTENSE\\\\\"\n",
    "path_saving_files = \"D:\\Workspace\\workspace_masterarbeit\\FeatureGeneration\\\\features\\INTENSE\\\\\"\n",
    "\n",
    "\n",
    "no_timestamps = [\"22_zusammen\", \"11_zusammen\", \"8_zusammen\"]\n",
    "\n",
    "\n",
    "all_subjects = [x[:-4] for x in os.listdir(path) if x != \"readme.txt\"]\n",
    "already_processed = [x[:-4]+\"_zusammen\" for x in os.listdir(path_saving_files)]\n",
    "all_subjects = [value for value in all_subjects if value not in already_processed]\n",
    "all_subjects = [value for value in all_subjects if value not in no_timestamps]"
   ]
  },
  {
   "cell_type": "code",
   "execution_count": null,
   "metadata": {},
   "outputs": [],
   "source": [
    "for i in tqdm(range(len(all_subjects))):\n",
    "    try:\n",
    "        helper = DatasetTimeFrameGeneratorINTENSE(path, all_subjects[i], saving_folder=path_saving_files)\n",
    "        features = helper.generate_features()\n",
    "        helper.save_features(features)\n",
    "    except:\n",
    "        continue"
   ]
  }
 ],
 "metadata": {
  "kernelspec": {
   "display_name": "Python 3.10.4",
   "language": "python",
   "name": "python3"
  },
  "language_info": {
   "codemirror_mode": {
    "name": "ipython",
    "version": 3
   },
   "file_extension": ".py",
   "mimetype": "text/x-python",
   "name": "python",
   "nbconvert_exporter": "python",
   "pygments_lexer": "ipython3",
   "version": "3.10.4"
  },
  "orig_nbformat": 4,
  "vscode": {
   "interpreter": {
    "hash": "4eef61a7b0f179811b21666adaca2eddf4327132c8a5532deea9676baf493691"
   }
  }
 },
 "nbformat": 4,
 "nbformat_minor": 2
}
