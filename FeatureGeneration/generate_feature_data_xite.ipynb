{
 "cells": [
  {
   "cell_type": "code",
   "execution_count": 1,
   "metadata": {},
   "outputs": [],
   "source": [
    "import warnings\n",
    "warnings.filterwarnings('ignore')\n",
    "from classes.dataset_helper_xite import DatasetTimeFrameGeneratorXITE\n",
    "from tqdm.auto import tqdm\n",
    "import os"
   ]
  },
  {
   "cell_type": "code",
   "execution_count": 2,
   "metadata": {},
   "outputs": [],
   "source": [
    "path = \"D:\\Studium\\Master\\Masterarbeit\\datasets\\XITE\"\n",
    "path_saving_files = \"features\\XITE\\\\\"\n",
    "subjects1 = [x[:-4] for x in os.listdir(path+\"\\Bio\\\\\")]\n",
    "subjects2 = [x[:-4] for x in os.listdir(path+\"\\Label\\\\\")]\n",
    "subjects3 = [x[:-4] for x in os.listdir(path+\"\\Stimulus\\\\\")]\n",
    "all_subjects = [value for value in subjects1 if value in subjects2 and value in subjects3]\n",
    "already_processed = [x[:-4] for x in os.listdir(path_saving_files)]\n",
    "all_subjects = [value for value in all_subjects if value not in already_processed]"
   ]
  },
  {
   "cell_type": "code",
   "execution_count": 3,
   "metadata": {},
   "outputs": [
    {
     "name": "stderr",
     "output_type": "stream",
     "text": [
      "100%|██████████| 8/8 [1:49:45<00:00, 823.19s/it]\n"
     ]
    }
   ],
   "source": [
    "for i in tqdm(range(len(all_subjects))):\n",
    "    helper = DatasetTimeFrameGeneratorXITE(path, all_subjects[i], saving_folder=path_saving_files, window_length=5)\n",
    "    helper.process_data()   \n",
    "    all_features = helper.generate_pain_no_pain_features(pain=0.5, nopain=-5)\n",
    "    helper.save_features(all_features)"
   ]
  }
 ],
 "metadata": {
  "kernelspec": {
   "display_name": "Python 3.10.4",
   "language": "python",
   "name": "python3"
  },
  "language_info": {
   "codemirror_mode": {
    "name": "ipython",
    "version": 3
   },
   "file_extension": ".py",
   "mimetype": "text/x-python",
   "name": "python",
   "nbconvert_exporter": "python",
   "pygments_lexer": "ipython3",
   "version": "3.10.4"
  },
  "orig_nbformat": 4,
  "vscode": {
   "interpreter": {
    "hash": "4eef61a7b0f179811b21666adaca2eddf4327132c8a5532deea9676baf493691"
   }
  }
 },
 "nbformat": 4,
 "nbformat_minor": 2
}
