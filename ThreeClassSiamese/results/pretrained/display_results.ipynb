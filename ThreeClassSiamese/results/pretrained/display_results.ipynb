{
 "cells": [
  {
   "cell_type": "code",
   "execution_count": 1,
   "metadata": {},
   "outputs": [],
   "source": [
    "import warnings\n",
    "warnings.filterwarnings('ignore')\n",
    "import pandas as pd\n",
    "import matplotlib.pyplot as plt\n",
    "import seaborn as sns\n",
    "from sklearn import metrics\n",
    "import os\n",
    "import numpy as np\n",
    "sns.set_theme()"
   ]
  },
  {
   "cell_type": "code",
   "execution_count": 2,
   "metadata": {},
   "outputs": [],
   "source": [
    "files = [file for file in os.listdir(\".\\\\\") if file.endswith(\".csv\")]"
   ]
  },
  {
   "cell_type": "code",
   "execution_count": 3,
   "metadata": {},
   "outputs": [
    {
     "data": {
      "text/html": [
       "<div>\n",
       "<style scoped>\n",
       "    .dataframe tbody tr th:only-of-type {\n",
       "        vertical-align: middle;\n",
       "    }\n",
       "\n",
       "    .dataframe tbody tr th {\n",
       "        vertical-align: top;\n",
       "    }\n",
       "\n",
       "    .dataframe thead th {\n",
       "        text-align: right;\n",
       "    }\n",
       "</style>\n",
       "<table border=\"1\" class=\"dataframe\">\n",
       "  <thead>\n",
       "    <tr style=\"text-align: right;\">\n",
       "      <th></th>\n",
       "      <th>acc</th>\n",
       "      <th>std</th>\n",
       "      <th>epochs</th>\n",
       "    </tr>\n",
       "  </thead>\n",
       "  <tbody>\n",
       "    <tr>\n",
       "      <th>pretrained xite tonic heat intense 4 0 1 0</th>\n",
       "      <td>88.996667</td>\n",
       "      <td>8.088684</td>\n",
       "      <td>5.958333</td>\n",
       "    </tr>\n",
       "    <tr>\n",
       "      <th>pretrained xite tonic intense 4 0 1 0</th>\n",
       "      <td>87.950417</td>\n",
       "      <td>8.864599</td>\n",
       "      <td>7.041667</td>\n",
       "    </tr>\n",
       "    <tr>\n",
       "      <th>pretrained xite tonic electric intense 4 0 1 0</th>\n",
       "      <td>87.628750</td>\n",
       "      <td>8.200020</td>\n",
       "      <td>6.958333</td>\n",
       "    </tr>\n",
       "    <tr>\n",
       "      <th>pretrained xite 2class intense 4 0 1 0</th>\n",
       "      <td>87.499583</td>\n",
       "      <td>11.874740</td>\n",
       "      <td>6.875000</td>\n",
       "    </tr>\n",
       "    <tr>\n",
       "      <th>pretrained xite 2class intense 4 1 1 0</th>\n",
       "      <td>87.001667</td>\n",
       "      <td>10.975298</td>\n",
       "      <td>8.666667</td>\n",
       "    </tr>\n",
       "    <tr>\n",
       "      <th>pretrained xite heat intense 4 0 1 0</th>\n",
       "      <td>86.751667</td>\n",
       "      <td>9.204508</td>\n",
       "      <td>9.041667</td>\n",
       "    </tr>\n",
       "    <tr>\n",
       "      <th>pretrained xite phasic heat intense 4 0 1 0</th>\n",
       "      <td>86.747917</td>\n",
       "      <td>7.769326</td>\n",
       "      <td>8.125000</td>\n",
       "    </tr>\n",
       "    <tr>\n",
       "      <th>pretrained xite phasic intense 4 0 1 0</th>\n",
       "      <td>86.307500</td>\n",
       "      <td>8.372511</td>\n",
       "      <td>11.625000</td>\n",
       "    </tr>\n",
       "    <tr>\n",
       "      <th>pretrained xite all intense 4 0 1 0</th>\n",
       "      <td>85.681667</td>\n",
       "      <td>8.379757</td>\n",
       "      <td>9.583333</td>\n",
       "    </tr>\n",
       "    <tr>\n",
       "      <th>pretrained xite strong intense 4 0 1 0</th>\n",
       "      <td>85.617500</td>\n",
       "      <td>10.854342</td>\n",
       "      <td>7.541667</td>\n",
       "    </tr>\n",
       "    <tr>\n",
       "      <th>pretrained xite phasic electric intense 4 0 1 0</th>\n",
       "      <td>84.930000</td>\n",
       "      <td>11.349360</td>\n",
       "      <td>10.333333</td>\n",
       "    </tr>\n",
       "    <tr>\n",
       "      <th>pretrained xite all intense 4 1 1 0</th>\n",
       "      <td>84.208333</td>\n",
       "      <td>8.240652</td>\n",
       "      <td>7.875000</td>\n",
       "    </tr>\n",
       "    <tr>\n",
       "      <th>pretrained xite electric intense 4 0 1 0</th>\n",
       "      <td>84.090417</td>\n",
       "      <td>9.606269</td>\n",
       "      <td>9.958333</td>\n",
       "    </tr>\n",
       "    <tr>\n",
       "      <th>pretrained xite 2class intense 1 0 1 0</th>\n",
       "      <td>79.509583</td>\n",
       "      <td>12.318857</td>\n",
       "      <td>13.666667</td>\n",
       "    </tr>\n",
       "    <tr>\n",
       "      <th>pretrained xite all intense 1 0 1 0</th>\n",
       "      <td>74.724167</td>\n",
       "      <td>9.138475</td>\n",
       "      <td>13.041667</td>\n",
       "    </tr>\n",
       "  </tbody>\n",
       "</table>\n",
       "</div>"
      ],
      "text/plain": [
       "                                                       acc        std  \\\n",
       "pretrained xite tonic heat intense 4 0 1 0       88.996667   8.088684   \n",
       "pretrained xite tonic intense 4 0 1 0            87.950417   8.864599   \n",
       "pretrained xite tonic electric intense 4 0 1 0   87.628750   8.200020   \n",
       "pretrained xite 2class intense 4 0 1 0           87.499583  11.874740   \n",
       "pretrained xite 2class intense 4 1 1 0           87.001667  10.975298   \n",
       "pretrained xite heat intense 4 0 1 0             86.751667   9.204508   \n",
       "pretrained xite phasic heat intense 4 0 1 0      86.747917   7.769326   \n",
       "pretrained xite phasic intense 4 0 1 0           86.307500   8.372511   \n",
       "pretrained xite all intense 4 0 1 0              85.681667   8.379757   \n",
       "pretrained xite strong intense 4 0 1 0           85.617500  10.854342   \n",
       "pretrained xite phasic electric intense 4 0 1 0  84.930000  11.349360   \n",
       "pretrained xite all intense 4 1 1 0              84.208333   8.240652   \n",
       "pretrained xite electric intense 4 0 1 0         84.090417   9.606269   \n",
       "pretrained xite 2class intense 1 0 1 0           79.509583  12.318857   \n",
       "pretrained xite all intense 1 0 1 0              74.724167   9.138475   \n",
       "\n",
       "                                                    epochs  \n",
       "pretrained xite tonic heat intense 4 0 1 0        5.958333  \n",
       "pretrained xite tonic intense 4 0 1 0             7.041667  \n",
       "pretrained xite tonic electric intense 4 0 1 0    6.958333  \n",
       "pretrained xite 2class intense 4 0 1 0            6.875000  \n",
       "pretrained xite 2class intense 4 1 1 0            8.666667  \n",
       "pretrained xite heat intense 4 0 1 0              9.041667  \n",
       "pretrained xite phasic heat intense 4 0 1 0       8.125000  \n",
       "pretrained xite phasic intense 4 0 1 0           11.625000  \n",
       "pretrained xite all intense 4 0 1 0               9.583333  \n",
       "pretrained xite strong intense 4 0 1 0            7.541667  \n",
       "pretrained xite phasic electric intense 4 0 1 0  10.333333  \n",
       "pretrained xite all intense 4 1 1 0               7.875000  \n",
       "pretrained xite electric intense 4 0 1 0          9.958333  \n",
       "pretrained xite 2class intense 1 0 1 0           13.666667  \n",
       "pretrained xite all intense 1 0 1 0              13.041667  "
      ]
     },
     "execution_count": 3,
     "metadata": {},
     "output_type": "execute_result"
    }
   ],
   "source": [
    "data_list = {}\n",
    "df = pd.DataFrame([])\n",
    "for file in files:\n",
    "    data = pd.read_csv(file)\n",
    "    data_list[file] = data\n",
    "    df = pd.concat([df, pd.DataFrame([data[\"accuracy\"].mean(), data[\"accuracy\"].std(), data[\"best_epoch\"].mean()]).T.rename(columns={0: \"acc\", 1: \"std\", 2: \"epochs\"}, index={0: file[:-4].replace(\"_\", \" \")})])\n",
    "df.sort_values(by=['acc'], ascending=False)"
   ]
  },
  {
   "cell_type": "code",
   "execution_count": 4,
   "metadata": {},
   "outputs": [],
   "source": [
    "# parse confusion matrix (saved as string in csv file) to float matrix\n",
    "def parse_cm(s):\n",
    "    rows = s.replace(\"nan\", \"0.\").replace(\" \", \"\").replace(\"\\r\", \"\").replace(\"\\n\", \"\")[2:-2].split(\"][\")\n",
    "    cm = []\n",
    "    for row in rows:\n",
    "        dots = [i for i in range(len(row)) if row[i] == '.']\n",
    "        arr = [float(row[dots[-3]-1:dots[-2]-1]), float(row[dots[-2]-1:dots[-1]-1]), float(row[dots[-1]-1:])]\n",
    "        cm.append(arr)\n",
    "    return np.array(cm)\n",
    "\n",
    "# calcualte confusion matrices mean over cross validation set\n",
    "def calculate_mean_cm(filename):\n",
    "    data = data_list[filename][\"cm\"][:]\n",
    "    c = np.array([[0,0,0],[0,0,0],[0,0,0]])\n",
    "    n = len(data)\n",
    "    for x in data:\n",
    "        c = c+parse_cm(x)\n",
    "    return c/n\n",
    "\n",
    "# display confusion matrices\n",
    "# use two_class if only displaying the classes 0 and 1\n",
    "def plot_cm(cm, two_class=False):\n",
    "    cm = np.round(cm, 2)\n",
    "    if two_class: \n",
    "        cm = cm[1:,1:]\n",
    "        cm_display = metrics.ConfusionMatrixDisplay(confusion_matrix = cm, display_labels = [\"same pain\",\"pain -> no pain\"])\n",
    "    else:\n",
    "        cm_display = metrics.ConfusionMatrixDisplay(confusion_matrix = cm, display_labels = [\"no pain -> pain\",\"same pain\",\"pain -> no pain\"])    \n",
    "    cm_display.plot(cmap=\"Blues\", colorbar=False)\n",
    "    plt.title(\"Confusion Matrix\", fontsize=16)\n",
    "    plt.grid(False)\n",
    "    plt.show()"
   ]
  },
  {
   "cell_type": "code",
   "execution_count": 9,
   "metadata": {},
   "outputs": [],
   "source": [
    "cm = calculate_mean_cm(files[-2])"
   ]
  },
  {
   "cell_type": "code",
   "execution_count": 11,
   "metadata": {},
   "outputs": [
    {
     "data": {
      "text/plain": [
       "['pretrained_xite_2class_intense_1_0_1_0.csv',\n",
       " 'pretrained_xite_2class_intense_4_0_1_0.csv',\n",
       " 'pretrained_xite_2class_intense_4_1_1_0.csv',\n",
       " 'pretrained_xite_all_intense_1_0_1_0.csv',\n",
       " 'pretrained_xite_all_intense_4_0_1_0.csv',\n",
       " 'pretrained_xite_all_intense_4_1_1_0.csv',\n",
       " 'pretrained_xite_electric_intense_4_0_1_0.csv',\n",
       " 'pretrained_xite_heat_intense_4_0_1_0.csv',\n",
       " 'pretrained_xite_phasic_electric_intense_4_0_1_0.csv',\n",
       " 'pretrained_xite_phasic_heat_intense_4_0_1_0.csv',\n",
       " 'pretrained_xite_phasic_intense_4_0_1_0.csv',\n",
       " 'pretrained_xite_strong_intense_4_0_1_0.csv',\n",
       " 'pretrained_xite_tonic_electric_intense_4_0_1_0.csv',\n",
       " 'pretrained_xite_tonic_heat_intense_4_0_1_0.csv',\n",
       " 'pretrained_xite_tonic_intense_4_0_1_0.csv']"
      ]
     },
     "execution_count": 11,
     "metadata": {},
     "output_type": "execute_result"
    }
   ],
   "source": [
    "files"
   ]
  },
  {
   "cell_type": "code",
   "execution_count": 10,
   "metadata": {},
   "outputs": [
    {
     "data": {
      "image/png": "[encoded data removed]",
      "text/plain": [
       "<Figure size 640x480 with 1 Axes>"
      ]
     },
     "metadata": {},
     "output_type": "display_data"
    }
   ],
   "source": [
    "plot_cm(cm, two_class=True)"
   ]
  }
 ],
 "metadata": {
  "kernelspec": {
   "display_name": "Python 3.8.15",
   "language": "python",
   "name": "python3"
  },
  "language_info": {
   "codemirror_mode": {
    "name": "ipython",
    "version": 3
   },
   "file_extension": ".py",
   "mimetype": "text/x-python",
   "name": "python",
   "nbconvert_exporter": "python",
   "pygments_lexer": "ipython3",
   "version": "3.8.15"
  },
  "orig_nbformat": 4,
  "vscode": {
   "interpreter": {
    "hash": "15553fa20e7e98b2aa17988b3683b9c4372a086618e2f531c95263c140b6e43e"
   }
  }
 },
 "nbformat": 4,
 "nbformat_minor": 2
}
