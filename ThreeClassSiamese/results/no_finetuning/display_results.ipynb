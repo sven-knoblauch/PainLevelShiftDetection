{
 "cells": [
  {
   "cell_type": "code",
   "execution_count": 5,
   "metadata": {},
   "outputs": [],
   "source": [
    "import warnings\n",
    "warnings.filterwarnings('ignore')\n",
    "import pandas as pd\n",
    "import matplotlib.pyplot as plt\n",
    "import seaborn as sns\n",
    "from sklearn import metrics\n",
    "import os\n",
    "import numpy as np\n",
    "sns.set_theme()"
   ]
  },
  {
   "cell_type": "code",
   "execution_count": 6,
   "metadata": {},
   "outputs": [],
   "source": [
    "files = [file for file in os.listdir(\".\\\\\") if file.endswith(\".csv\")]"
   ]
  },
  {
   "cell_type": "code",
   "execution_count": 7,
   "metadata": {},
   "outputs": [
    {
     "data": {
      "text/html": [
       "<div>\n",
       "<style scoped>\n",
       "    .dataframe tbody tr th:only-of-type {\n",
       "        vertical-align: middle;\n",
       "    }\n",
       "\n",
       "    .dataframe tbody tr th {\n",
       "        vertical-align: top;\n",
       "    }\n",
       "\n",
       "    .dataframe thead th {\n",
       "        text-align: right;\n",
       "    }\n",
       "</style>\n",
       "<table border=\"1\" class=\"dataframe\">\n",
       "  <thead>\n",
       "    <tr style=\"text-align: right;\">\n",
       "      <th></th>\n",
       "      <th>acc</th>\n",
       "    </tr>\n",
       "  </thead>\n",
       "  <tbody>\n",
       "    <tr>\n",
       "      <th>model tonic electric 2class</th>\n",
       "      <td>56.465558</td>\n",
       "    </tr>\n",
       "    <tr>\n",
       "      <th>model tonic heat 2class</th>\n",
       "      <td>53.810734</td>\n",
       "    </tr>\n",
       "    <tr>\n",
       "      <th>model tonic 2class</th>\n",
       "      <td>52.655060</td>\n",
       "    </tr>\n",
       "    <tr>\n",
       "      <th>model electric 2class</th>\n",
       "      <td>51.674910</td>\n",
       "    </tr>\n",
       "    <tr>\n",
       "      <th>model all</th>\n",
       "      <td>50.194914</td>\n",
       "    </tr>\n",
       "    <tr>\n",
       "      <th>model phasic</th>\n",
       "      <td>49.574642</td>\n",
       "    </tr>\n",
       "    <tr>\n",
       "      <th>model phasic electric 2class</th>\n",
       "      <td>49.459392</td>\n",
       "    </tr>\n",
       "    <tr>\n",
       "      <th>model phasic heat</th>\n",
       "      <td>48.974488</td>\n",
       "    </tr>\n",
       "    <tr>\n",
       "      <th>model phasic 2class</th>\n",
       "      <td>48.278294</td>\n",
       "    </tr>\n",
       "    <tr>\n",
       "      <th>model all 2class</th>\n",
       "      <td>48.269679</td>\n",
       "    </tr>\n",
       "    <tr>\n",
       "      <th>model heat</th>\n",
       "      <td>48.269679</td>\n",
       "    </tr>\n",
       "    <tr>\n",
       "      <th>model phasic electric</th>\n",
       "      <td>47.775819</td>\n",
       "    </tr>\n",
       "    <tr>\n",
       "      <th>model electric</th>\n",
       "      <td>47.471252</td>\n",
       "    </tr>\n",
       "    <tr>\n",
       "      <th>model heat 2class</th>\n",
       "      <td>46.594796</td>\n",
       "    </tr>\n",
       "    <tr>\n",
       "      <th>model phasic heat 2class</th>\n",
       "      <td>45.950078</td>\n",
       "    </tr>\n",
       "    <tr>\n",
       "      <th>model tonic electric</th>\n",
       "      <td>44.703309</td>\n",
       "    </tr>\n",
       "    <tr>\n",
       "      <th>model tonic</th>\n",
       "      <td>39.343280</td>\n",
       "    </tr>\n",
       "    <tr>\n",
       "      <th>model tonic heat</th>\n",
       "      <td>39.034111</td>\n",
       "    </tr>\n",
       "  </tbody>\n",
       "</table>\n",
       "</div>"
      ],
      "text/plain": [
       "                                    acc\n",
       "model tonic electric 2class   56.465558\n",
       "model tonic heat 2class       53.810734\n",
       "model tonic 2class            52.655060\n",
       "model electric 2class         51.674910\n",
       "model all                     50.194914\n",
       "model phasic                  49.574642\n",
       "model phasic electric 2class  49.459392\n",
       "model phasic heat             48.974488\n",
       "model phasic 2class           48.278294\n",
       "model all 2class              48.269679\n",
       "model heat                    48.269679\n",
       "model phasic electric         47.775819\n",
       "model electric                47.471252\n",
       "model heat 2class             46.594796\n",
       "model phasic heat 2class      45.950078\n",
       "model tonic electric          44.703309\n",
       "model tonic                   39.343280\n",
       "model tonic heat              39.034111"
      ]
     },
     "execution_count": 7,
     "metadata": {},
     "output_type": "execute_result"
    }
   ],
   "source": [
    "data_list = {}\n",
    "df = pd.DataFrame([])\n",
    "for file in files:\n",
    "    data = pd.read_csv(file)\n",
    "    data_list[file] = data\n",
    "    df = pd.concat([df, pd.DataFrame([data[\"accuracy\"].mean()]).T.rename(columns={0: \"acc\"}, index={0: file[:-4].replace(\"_\", \" \")})])\n",
    "df.sort_values(by=['acc'], ascending=False)"
   ]
  },
  {
   "cell_type": "code",
   "execution_count": 8,
   "metadata": {},
   "outputs": [],
   "source": [
    "# parse confusion matrix (saved as string in csv file) to float matrix\n",
    "def parse_cm(s):\n",
    "    rows = s.replace(\"nan\", \"0.\").replace(\" \", \"\").replace(\"\\r\", \"\").replace(\"\\n\", \"\")[2:-2].split(\"][\")\n",
    "    cm = []\n",
    "    for row in rows:\n",
    "        dots = [i for i in range(len(row)) if row[i] == '.']\n",
    "        arr = [float(row[dots[-3]-1:dots[-2]-1]), float(row[dots[-2]-1:dots[-1]-1]), float(row[dots[-1]-1:])]\n",
    "        cm.append(arr)\n",
    "    return np.array(cm)\n",
    "\n",
    "# calcualte confusion matrices mean over cross validation set\n",
    "def calculate_mean_cm(filename):\n",
    "    data = data_list[filename][\"cm\"][:]\n",
    "    c = np.array([[0,0,0],[0,0,0],[0,0,0]])\n",
    "    n = len(data)\n",
    "    for x in data:\n",
    "        c = c+parse_cm(x)\n",
    "    return c/n\n",
    "\n",
    "# display confusion matrices\n",
    "# use two_class if only displaying the classes 0 and 1\n",
    "def plot_cm(cm, two_class=False):\n",
    "    cm = np.round(cm, 2)\n",
    "    if two_class: \n",
    "        cm = cm[1:,1:]\n",
    "        cm_display = metrics.ConfusionMatrixDisplay(confusion_matrix = cm, display_labels = [\"same pain\",\"pain -> no pain\"])\n",
    "    else:\n",
    "        cm_display = metrics.ConfusionMatrixDisplay(confusion_matrix = cm, display_labels = [\"no pain -> pain\",\"same pain\",\"pain -> no pain\"])    \n",
    "    cm_display.plot(cmap=\"Blues\", colorbar=False)\n",
    "    plt.title(\"Confusion Matrix\", fontsize=16)\n",
    "    plt.grid(False)\n",
    "    plt.show()"
   ]
  },
  {
   "cell_type": "code",
   "execution_count": 9,
   "metadata": {},
   "outputs": [],
   "source": [
    "cm = calculate_mean_cm(files[0])"
   ]
  },
  {
   "cell_type": "code",
   "execution_count": 10,
   "metadata": {},
   "outputs": [
    {
     "data": {
      "image/png": "[encoded data removed]",
      "text/plain": [
       "<Figure size 640x480 with 1 Axes>"
      ]
     },
     "metadata": {},
     "output_type": "display_data"
    }
   ],
   "source": [
    "plot_cm(cm, two_class=True)"
   ]
  }
 ],
 "metadata": {
  "kernelspec": {
   "display_name": "Python 3.8.15",
   "language": "python",
   "name": "python3"
  },
  "language_info": {
   "codemirror_mode": {
    "name": "ipython",
    "version": 3
   },
   "file_extension": ".py",
   "mimetype": "text/x-python",
   "name": "python",
   "nbconvert_exporter": "python",
   "pygments_lexer": "ipython3",
   "version": "3.8.15"
  },
  "orig_nbformat": 4,
  "vscode": {
   "interpreter": {
    "hash": "15553fa20e7e98b2aa17988b3683b9c4372a086618e2f531c95263c140b6e43e"
   }
  }
 },
 "nbformat": 4,
 "nbformat_minor": 2
}
