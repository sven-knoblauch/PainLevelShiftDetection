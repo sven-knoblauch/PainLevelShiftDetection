{
 "cells": [
  {
   "cell_type": "code",
   "execution_count": 1,
   "metadata": {},
   "outputs": [],
   "source": [
    "import warnings\n",
    "warnings.filterwarnings('ignore')\n",
    "import pandas as pd\n",
    "import matplotlib.pyplot as plt\n",
    "import seaborn as sns\n",
    "from sklearn import metrics\n",
    "import os\n",
    "import numpy as np\n",
    "sns.set_theme()"
   ]
  },
  {
   "cell_type": "code",
   "execution_count": 2,
   "metadata": {},
   "outputs": [],
   "source": [
    "files = [file for file in os.listdir(\".\\\\\") if file.endswith(\".csv\")]"
   ]
  },
  {
   "cell_type": "code",
   "execution_count": 3,
   "metadata": {},
   "outputs": [
    {
     "data": {
      "text/html": [
       "<div>\n",
       "<style scoped>\n",
       "    .dataframe tbody tr th:only-of-type {\n",
       "        vertical-align: middle;\n",
       "    }\n",
       "\n",
       "    .dataframe tbody tr th {\n",
       "        vertical-align: top;\n",
       "    }\n",
       "\n",
       "    .dataframe thead th {\n",
       "        text-align: right;\n",
       "    }\n",
       "</style>\n",
       "<table border=\"1\" class=\"dataframe\">\n",
       "  <thead>\n",
       "    <tr style=\"text-align: right;\">\n",
       "      <th></th>\n",
       "      <th>acc</th>\n",
       "      <th>std</th>\n",
       "      <th>epochs</th>\n",
       "    </tr>\n",
       "  </thead>\n",
       "  <tbody>\n",
       "    <tr>\n",
       "      <th>xite tonic heat</th>\n",
       "      <td>66.914</td>\n",
       "      <td>3.386874</td>\n",
       "      <td>22.7</td>\n",
       "    </tr>\n",
       "    <tr>\n",
       "      <th>xite strong</th>\n",
       "      <td>66.850</td>\n",
       "      <td>3.417657</td>\n",
       "      <td>20.8</td>\n",
       "    </tr>\n",
       "    <tr>\n",
       "      <th>xite tonic electric</th>\n",
       "      <td>66.794</td>\n",
       "      <td>3.463518</td>\n",
       "      <td>19.7</td>\n",
       "    </tr>\n",
       "    <tr>\n",
       "      <th>xite phasic electric</th>\n",
       "      <td>66.605</td>\n",
       "      <td>3.542113</td>\n",
       "      <td>21.7</td>\n",
       "    </tr>\n",
       "    <tr>\n",
       "      <th>xite heat</th>\n",
       "      <td>66.393</td>\n",
       "      <td>3.378333</td>\n",
       "      <td>22.3</td>\n",
       "    </tr>\n",
       "    <tr>\n",
       "      <th>xite electric</th>\n",
       "      <td>66.372</td>\n",
       "      <td>3.350840</td>\n",
       "      <td>22.3</td>\n",
       "    </tr>\n",
       "    <tr>\n",
       "      <th>xite phasic</th>\n",
       "      <td>66.345</td>\n",
       "      <td>3.398206</td>\n",
       "      <td>24.0</td>\n",
       "    </tr>\n",
       "    <tr>\n",
       "      <th>xite all</th>\n",
       "      <td>66.291</td>\n",
       "      <td>3.427261</td>\n",
       "      <td>24.5</td>\n",
       "    </tr>\n",
       "    <tr>\n",
       "      <th>xite phasic heat</th>\n",
       "      <td>66.275</td>\n",
       "      <td>3.582104</td>\n",
       "      <td>20.3</td>\n",
       "    </tr>\n",
       "    <tr>\n",
       "      <th>xite tonic</th>\n",
       "      <td>66.274</td>\n",
       "      <td>3.560232</td>\n",
       "      <td>23.2</td>\n",
       "    </tr>\n",
       "  </tbody>\n",
       "</table>\n",
       "</div>"
      ],
      "text/plain": [
       "                         acc       std  epochs\n",
       "xite tonic heat       66.914  3.386874    22.7\n",
       "xite strong           66.850  3.417657    20.8\n",
       "xite tonic electric   66.794  3.463518    19.7\n",
       "xite phasic electric  66.605  3.542113    21.7\n",
       "xite heat             66.393  3.378333    22.3\n",
       "xite electric         66.372  3.350840    22.3\n",
       "xite phasic           66.345  3.398206    24.0\n",
       "xite all              66.291  3.427261    24.5\n",
       "xite phasic heat      66.275  3.582104    20.3\n",
       "xite tonic            66.274  3.560232    23.2"
      ]
     },
     "execution_count": 3,
     "metadata": {},
     "output_type": "execute_result"
    }
   ],
   "source": [
    "data_list = {}\n",
    "df = pd.DataFrame([])\n",
    "for file in files:\n",
    "    data = pd.read_csv(file)\n",
    "    data_list[file] = data\n",
    "    df = pd.concat([df, pd.DataFrame([data[\"accuracy\"].mean(), data[\"accuracy\"].std(), data[\"best_epoch\"].mean()]).T.rename(columns={0: \"acc\", 1: \"std\", 2: \"epochs\"}, index={0: file[:-4].replace(\"_\", \" \")})])\n",
    "df.sort_values(by=['acc'], ascending=False)"
   ]
  },
  {
   "cell_type": "code",
   "execution_count": 4,
   "metadata": {},
   "outputs": [],
   "source": [
    "# parse confusion matrix (saved as string in csv file) to float matrix\n",
    "def parse_cm(s):\n",
    "    rows = s.replace(\"nan\", \"0.\").replace(\" \", \"\").replace(\"\\r\", \"\").replace(\"\\n\", \"\")[2:-2].split(\"][\")\n",
    "    cm = []\n",
    "    for row in rows:\n",
    "        dots = [i for i in range(len(row)) if row[i] == '.']\n",
    "        arr = [float(row[dots[-3]-1:dots[-2]-1]), float(row[dots[-2]-1:dots[-1]-1]), float(row[dots[-1]-1:])]\n",
    "        cm.append(arr)\n",
    "    return np.array(cm)\n",
    "\n",
    "# calcualte confusion matrices mean over cross validation set\n",
    "def calculate_mean_cm(filename):\n",
    "    data = data_list[filename][\"cm\"][:]\n",
    "    c = np.array([[0,0,0],[0,0,0],[0,0,0]])\n",
    "    n = len(data)\n",
    "    for x in data:\n",
    "        c = c+parse_cm(x)\n",
    "    return c/n\n",
    "\n",
    "# display confusion matrices\n",
    "# use two_class if only displaying the classes 0 and 1\n",
    "def plot_cm(cm, two_class=False):\n",
    "    cm = np.round(cm, 2)\n",
    "    if two_class: \n",
    "        cm = cm[1:,1:]\n",
    "        cm_display = metrics.ConfusionMatrixDisplay(confusion_matrix = cm, display_labels = [\"same pain\",\"pain -> no pain\"])\n",
    "    else:\n",
    "        cm_display = metrics.ConfusionMatrixDisplay(confusion_matrix = cm, display_labels = [\"no pain -> pain\",\"same pain\",\"pain -> no pain\"])    \n",
    "    cm_display.plot(cmap=\"Blues\", colorbar=False)\n",
    "    plt.title(\"Confusion Matrix\", fontsize=16)\n",
    "    plt.grid(False)\n",
    "    plt.show()"
   ]
  },
  {
   "cell_type": "code",
   "execution_count": 5,
   "metadata": {},
   "outputs": [],
   "source": [
    "cm = calculate_mean_cm(files[0])"
   ]
  },
  {
   "cell_type": "code",
   "execution_count": 6,
   "metadata": {},
   "outputs": [
    {
     "data": {
      "image/png": "[encoded data removed]",
      "text/plain": [
       "<Figure size 640x480 with 1 Axes>"
      ]
     },
     "metadata": {},
     "output_type": "display_data"
    }
   ],
   "source": [
    "plot_cm(cm, two_class=False)"
   ]
  }
 ],
 "metadata": {
  "kernelspec": {
   "display_name": "Python 3.8.15",
   "language": "python",
   "name": "python3"
  },
  "language_info": {
   "codemirror_mode": {
    "name": "ipython",
    "version": 3
   },
   "file_extension": ".py",
   "mimetype": "text/x-python",
   "name": "python",
   "nbconvert_exporter": "python",
   "pygments_lexer": "ipython3",
   "version": "3.8.15"
  },
  "orig_nbformat": 4,
  "vscode": {
   "interpreter": {
    "hash": "15553fa20e7e98b2aa17988b3683b9c4372a086618e2f531c95263c140b6e43e"
   }
  }
 },
 "nbformat": 4,
 "nbformat_minor": 2
}
