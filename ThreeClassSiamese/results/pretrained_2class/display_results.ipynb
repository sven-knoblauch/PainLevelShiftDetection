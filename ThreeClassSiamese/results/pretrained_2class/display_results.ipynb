{
 "cells": [
  {
   "cell_type": "code",
   "execution_count": 1,
   "metadata": {},
   "outputs": [],
   "source": [
    "import warnings\n",
    "warnings.filterwarnings('ignore')\n",
    "import pandas as pd\n",
    "import matplotlib.pyplot as plt\n",
    "import seaborn as sns\n",
    "from sklearn import metrics\n",
    "import os\n",
    "import numpy as np\n",
    "sns.set_theme()"
   ]
  },
  {
   "cell_type": "code",
   "execution_count": 2,
   "metadata": {},
   "outputs": [],
   "source": [
    "files = [file for file in os.listdir(\".\\\\\") if file.endswith(\".csv\")]"
   ]
  },
  {
   "cell_type": "code",
   "execution_count": 3,
   "metadata": {},
   "outputs": [
    {
     "data": {
      "text/html": [
       "<div>\n",
       "<style scoped>\n",
       "    .dataframe tbody tr th:only-of-type {\n",
       "        vertical-align: middle;\n",
       "    }\n",
       "\n",
       "    .dataframe tbody tr th {\n",
       "        vertical-align: top;\n",
       "    }\n",
       "\n",
       "    .dataframe thead th {\n",
       "        text-align: right;\n",
       "    }\n",
       "</style>\n",
       "<table border=\"1\" class=\"dataframe\">\n",
       "  <thead>\n",
       "    <tr style=\"text-align: right;\">\n",
       "      <th></th>\n",
       "      <th>acc</th>\n",
       "      <th>std</th>\n",
       "      <th>epochs</th>\n",
       "    </tr>\n",
       "  </thead>\n",
       "  <tbody>\n",
       "    <tr>\n",
       "      <th>pretraining xite tonic heat 2class intense 4 0 1 0</th>\n",
       "      <td>89.497917</td>\n",
       "      <td>7.921800</td>\n",
       "      <td>3.833333</td>\n",
       "    </tr>\n",
       "    <tr>\n",
       "      <th>pretraining xite electric 2class intense 4 0 1 0</th>\n",
       "      <td>89.150833</td>\n",
       "      <td>8.772420</td>\n",
       "      <td>7.833333</td>\n",
       "    </tr>\n",
       "    <tr>\n",
       "      <th>pretraining xite tonic 2class intense 4 0 1 0</th>\n",
       "      <td>88.564167</td>\n",
       "      <td>8.484441</td>\n",
       "      <td>4.750000</td>\n",
       "    </tr>\n",
       "    <tr>\n",
       "      <th>pretraining xite heat 2class intense 4 0 1 0</th>\n",
       "      <td>88.447500</td>\n",
       "      <td>9.454428</td>\n",
       "      <td>5.291667</td>\n",
       "    </tr>\n",
       "    <tr>\n",
       "      <th>pretraining xite phasic heat 2class intense 4 0 1 0</th>\n",
       "      <td>88.411250</td>\n",
       "      <td>9.162898</td>\n",
       "      <td>5.166667</td>\n",
       "    </tr>\n",
       "    <tr>\n",
       "      <th>pretraining xite tonic electric 2class intense 4 0 1 0</th>\n",
       "      <td>88.369583</td>\n",
       "      <td>8.119334</td>\n",
       "      <td>5.041667</td>\n",
       "    </tr>\n",
       "    <tr>\n",
       "      <th>pretraining xite phasic electric 2class intense 4 0 1 0</th>\n",
       "      <td>87.975417</td>\n",
       "      <td>11.465924</td>\n",
       "      <td>8.000000</td>\n",
       "    </tr>\n",
       "    <tr>\n",
       "      <th>pretraining xite phasic 2class intense 4 0 1 0</th>\n",
       "      <td>87.907500</td>\n",
       "      <td>11.467467</td>\n",
       "      <td>7.583333</td>\n",
       "    </tr>\n",
       "    <tr>\n",
       "      <th>pretrained xite all 2class intense 4 0 1 0</th>\n",
       "      <td>87.499583</td>\n",
       "      <td>11.874740</td>\n",
       "      <td>6.875000</td>\n",
       "    </tr>\n",
       "    <tr>\n",
       "      <th>pretrained xite strong 2class intense 4 0 1 0</th>\n",
       "      <td>86.770000</td>\n",
       "      <td>10.557799</td>\n",
       "      <td>4.708333</td>\n",
       "    </tr>\n",
       "  </tbody>\n",
       "</table>\n",
       "</div>"
      ],
      "text/plain": [
       "                                                          acc        std  \\\n",
       "pretraining xite tonic heat 2class intense 4 0 1 0  89.497917   7.921800   \n",
       "pretraining xite electric 2class intense 4 0 1 0    89.150833   8.772420   \n",
       "pretraining xite tonic 2class intense 4 0 1 0       88.564167   8.484441   \n",
       "pretraining xite heat 2class intense 4 0 1 0        88.447500   9.454428   \n",
       "pretraining xite phasic heat 2class intense 4 0...  88.411250   9.162898   \n",
       "pretraining xite tonic electric 2class intense ...  88.369583   8.119334   \n",
       "pretraining xite phasic electric 2class intense...  87.975417  11.465924   \n",
       "pretraining xite phasic 2class intense 4 0 1 0      87.907500  11.467467   \n",
       "pretrained xite all 2class intense 4 0 1 0          87.499583  11.874740   \n",
       "pretrained xite strong 2class intense 4 0 1 0       86.770000  10.557799   \n",
       "\n",
       "                                                      epochs  \n",
       "pretraining xite tonic heat 2class intense 4 0 1 0  3.833333  \n",
       "pretraining xite electric 2class intense 4 0 1 0    7.833333  \n",
       "pretraining xite tonic 2class intense 4 0 1 0       4.750000  \n",
       "pretraining xite heat 2class intense 4 0 1 0        5.291667  \n",
       "pretraining xite phasic heat 2class intense 4 0...  5.166667  \n",
       "pretraining xite tonic electric 2class intense ...  5.041667  \n",
       "pretraining xite phasic electric 2class intense...  8.000000  \n",
       "pretraining xite phasic 2class intense 4 0 1 0      7.583333  \n",
       "pretrained xite all 2class intense 4 0 1 0          6.875000  \n",
       "pretrained xite strong 2class intense 4 0 1 0       4.708333  "
      ]
     },
     "execution_count": 3,
     "metadata": {},
     "output_type": "execute_result"
    }
   ],
   "source": [
    "data_list = {}\n",
    "df = pd.DataFrame([])\n",
    "for file in files:\n",
    "    data = pd.read_csv(file)\n",
    "    data_list[file] = data\n",
    "    df = pd.concat([df, pd.DataFrame([data[\"accuracy\"].mean(), data[\"accuracy\"].std(), data[\"best_epoch\"].mean()]).T.rename(columns={0: \"acc\", 1: \"std\", 2: \"epochs\"}, index={0: file[:-4].replace(\"_\", \" \")})])\n",
    "df.sort_values(by=['acc'], ascending=False)"
   ]
  },
  {
   "cell_type": "code",
   "execution_count": 4,
   "metadata": {},
   "outputs": [],
   "source": [
    "# parse confusion matrix (saved as string in csv file) to float matrix\n",
    "def parse_cm(s):\n",
    "    rows = s.replace(\"nan\", \"0.\").replace(\" \", \"\").replace(\"\\r\", \"\").replace(\"\\n\", \"\")[2:-2].split(\"][\")\n",
    "    cm = []\n",
    "    for row in rows:\n",
    "        dots = [i for i in range(len(row)) if row[i] == '.']\n",
    "        arr = [float(row[dots[-3]-1:dots[-2]-1]), float(row[dots[-2]-1:dots[-1]-1]), float(row[dots[-1]-1:])]\n",
    "        cm.append(arr)\n",
    "    return np.array(cm)\n",
    "\n",
    "# calcualte confusion matrices mean over cross validation set\n",
    "def calculate_mean_cm(filename):\n",
    "    data = data_list[filename][\"cm\"][:]\n",
    "    c = np.array([[0,0,0],[0,0,0],[0,0,0]])\n",
    "    n = len(data)\n",
    "    for x in data:\n",
    "        c = c+parse_cm(x)\n",
    "    return c/n\n",
    "\n",
    "# display confusion matrices\n",
    "# use two_class if only displaying the classes 0 and 1\n",
    "def plot_cm(cm, two_class=False):\n",
    "    cm = np.round(cm, 2)\n",
    "    if two_class: \n",
    "        cm = cm[1:,1:]\n",
    "        cm_display = metrics.ConfusionMatrixDisplay(confusion_matrix = cm, display_labels = [\"same pain\",\"pain -> no pain\"])\n",
    "    else:\n",
    "        cm_display = metrics.ConfusionMatrixDisplay(confusion_matrix = cm, display_labels = [\"no pain -> pain\",\"same pain\",\"pain -> no pain\"])    \n",
    "    cm_display.plot(cmap=\"Blues\", colorbar=False)\n",
    "    plt.title(\"Confusion Matrix\", fontsize=16)\n",
    "    plt.grid(False)\n",
    "    plt.show()"
   ]
  },
  {
   "cell_type": "code",
   "execution_count": 9,
   "metadata": {},
   "outputs": [],
   "source": [
    "cm = calculate_mean_cm(files[-1])"
   ]
  },
  {
   "cell_type": "code",
   "execution_count": 10,
   "metadata": {},
   "outputs": [
    {
     "data": {
      "image/png": "[encoded data removed]",
      "text/plain": [
       "<Figure size 640x480 with 1 Axes>"
      ]
     },
     "metadata": {},
     "output_type": "display_data"
    }
   ],
   "source": [
    "plot_cm(cm, two_class=True)"
   ]
  }
 ],
 "metadata": {
  "kernelspec": {
   "display_name": "Python 3.8.15",
   "language": "python",
   "name": "python3"
  },
  "language_info": {
   "codemirror_mode": {
    "name": "ipython",
    "version": 3
   },
   "file_extension": ".py",
   "mimetype": "text/x-python",
   "name": "python",
   "nbconvert_exporter": "python",
   "pygments_lexer": "ipython3",
   "version": "3.8.15"
  },
  "orig_nbformat": 4,
  "vscode": {
   "interpreter": {
    "hash": "15553fa20e7e98b2aa17988b3683b9c4372a086618e2f531c95263c140b6e43e"
   }
  }
 },
 "nbformat": 4,
 "nbformat_minor": 2
}
