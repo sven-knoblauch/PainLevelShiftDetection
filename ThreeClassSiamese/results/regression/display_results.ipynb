{
 "cells": [
  {
   "cell_type": "code",
   "execution_count": 13,
   "metadata": {},
   "outputs": [],
   "source": [
    "import warnings\n",
    "warnings.filterwarnings('ignore')\n",
    "import pandas as pd\n",
    "import matplotlib.pyplot as plt\n",
    "import seaborn as sns\n",
    "from sklearn import metrics\n",
    "import os\n",
    "import numpy as np\n",
    "sns.set_theme()"
   ]
  },
  {
   "cell_type": "code",
   "execution_count": 14,
   "metadata": {},
   "outputs": [],
   "source": [
    "files = [file for file in os.listdir(\".\\\\\") if file.endswith(\".csv\")]"
   ]
  },
  {
   "cell_type": "code",
   "execution_count": 15,
   "metadata": {},
   "outputs": [
    {
     "data": {
      "text/html": [
       "<div>\n",
       "<style scoped>\n",
       "    .dataframe tbody tr th:only-of-type {\n",
       "        vertical-align: middle;\n",
       "    }\n",
       "\n",
       "    .dataframe tbody tr th {\n",
       "        vertical-align: top;\n",
       "    }\n",
       "\n",
       "    .dataframe thead th {\n",
       "        text-align: right;\n",
       "    }\n",
       "</style>\n",
       "<table border=\"1\" class=\"dataframe\">\n",
       "  <thead>\n",
       "    <tr style=\"text-align: right;\">\n",
       "      <th></th>\n",
       "      <th>acc</th>\n",
       "      <th>epochs</th>\n",
       "    </tr>\n",
       "  </thead>\n",
       "  <tbody>\n",
       "    <tr>\n",
       "      <th>intense 4 1 1 0 regression</th>\n",
       "      <td>52.352500</td>\n",
       "      <td>3.041667</td>\n",
       "    </tr>\n",
       "    <tr>\n",
       "      <th>intense 1 0 1 0 regression</th>\n",
       "      <td>51.310833</td>\n",
       "      <td>3.916667</td>\n",
       "    </tr>\n",
       "    <tr>\n",
       "      <th>intense 2 1 1 0 regression</th>\n",
       "      <td>51.188750</td>\n",
       "      <td>3.250000</td>\n",
       "    </tr>\n",
       "    <tr>\n",
       "      <th>intense 1 1 1 0 regression</th>\n",
       "      <td>50.122500</td>\n",
       "      <td>1.083333</td>\n",
       "    </tr>\n",
       "    <tr>\n",
       "      <th>intense 1 1 1 1 regression</th>\n",
       "      <td>33.330000</td>\n",
       "      <td>1.000000</td>\n",
       "    </tr>\n",
       "  </tbody>\n",
       "</table>\n",
       "</div>"
      ],
      "text/plain": [
       "                                  acc    epochs\n",
       "intense 4 1 1 0 regression  52.352500  3.041667\n",
       "intense 1 0 1 0 regression  51.310833  3.916667\n",
       "intense 2 1 1 0 regression  51.188750  3.250000\n",
       "intense 1 1 1 0 regression  50.122500  1.083333\n",
       "intense 1 1 1 1 regression  33.330000  1.000000"
      ]
     },
     "execution_count": 15,
     "metadata": {},
     "output_type": "execute_result"
    }
   ],
   "source": [
    "data_list = {}\n",
    "df = pd.DataFrame([])\n",
    "for file in files:\n",
    "    data = pd.read_csv(file)\n",
    "    data_list[file] = data\n",
    "    df = pd.concat([df, pd.DataFrame([data[\"accuracy\"].mean(), data[\"best_epoch\"].mean()]).T.rename(columns={0: \"acc\", 1: \"epochs\"}, index={0: file[:-4].replace(\"_\", \" \")})])\n",
    "df.sort_values(by=['acc'], ascending=False)"
   ]
  },
  {
   "cell_type": "code",
   "execution_count": 16,
   "metadata": {},
   "outputs": [],
   "source": [
    "# parse confusion matrix (saved as string in csv file) to float matrix\n",
    "def parse_cm(s):\n",
    "    rows = s.replace(\"nan\", \"0.\").replace(\" \", \"\").replace(\"\\r\", \"\").replace(\"\\n\", \"\")[2:-2].split(\"][\")\n",
    "    cm = []\n",
    "    for row in rows:\n",
    "        dots = [i for i in range(len(row)) if row[i] == '.']\n",
    "        arr = [float(row[dots[-3]-1:dots[-2]-1]), float(row[dots[-2]-1:dots[-1]-1]), float(row[dots[-1]-1:])]\n",
    "        cm.append(arr)\n",
    "    return np.array(cm)\n",
    "\n",
    "# calcualte confusion matrices mean over cross validation set\n",
    "def calculate_mean_cm(filename):\n",
    "    data = data_list[filename][\"cm\"][:]\n",
    "    c = np.array([[0,0,0],[0,0,0],[0,0,0]])\n",
    "    n = len(data)\n",
    "    for x in data:\n",
    "        c = c+parse_cm(x)\n",
    "    return c/n\n",
    "\n",
    "# display confusion matrices\n",
    "# use two_class if only displaying the classes 0 and 1\n",
    "def plot_cm(cm, two_class=False):\n",
    "    cm = np.round(cm, 2)\n",
    "    if two_class: \n",
    "        cm = cm[1:,1:]\n",
    "        cm_display = metrics.ConfusionMatrixDisplay(confusion_matrix = cm, display_labels = [\"same pain\",\"pain -> no pain\"])\n",
    "    else:\n",
    "        cm_display = metrics.ConfusionMatrixDisplay(confusion_matrix = cm, display_labels = [\"no pain -> pain\",\"same pain\",\"pain -> no pain\"])    \n",
    "    cm_display.plot(cmap=\"Blues\", colorbar=False)\n",
    "    plt.title(\"Confusion Matrix\", fontsize=16)\n",
    "    plt.grid(False)\n",
    "    plt.show()"
   ]
  },
  {
   "cell_type": "code",
   "execution_count": 17,
   "metadata": {},
   "outputs": [],
   "source": [
    "cm = calculate_mean_cm(files[0])"
   ]
  },
  {
   "cell_type": "code",
   "execution_count": 18,
   "metadata": {},
   "outputs": [
    {
     "data": {
      "image/png": "[encoded data removed]",
      "text/plain": [
       "<Figure size 640x480 with 1 Axes>"
      ]
     },
     "metadata": {},
     "output_type": "display_data"
    }
   ],
   "source": [
    "plot_cm(cm, two_class=True)"
   ]
  }
 ],
 "metadata": {
  "kernelspec": {
   "display_name": "Python 3.8.15",
   "language": "python",
   "name": "python3"
  },
  "language_info": {
   "codemirror_mode": {
    "name": "ipython",
    "version": 3
   },
   "file_extension": ".py",
   "mimetype": "text/x-python",
   "name": "python",
   "nbconvert_exporter": "python",
   "pygments_lexer": "ipython3",
   "version": "3.8.15"
  },
  "orig_nbformat": 4,
  "vscode": {
   "interpreter": {
    "hash": "15553fa20e7e98b2aa17988b3683b9c4372a086618e2f531c95263c140b6e43e"
   }
  }
 },
 "nbformat": 4,
 "nbformat_minor": 2
}
