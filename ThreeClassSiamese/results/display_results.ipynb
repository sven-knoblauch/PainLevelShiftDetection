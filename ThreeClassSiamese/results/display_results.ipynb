{
 "cells": [
  {
   "cell_type": "code",
   "execution_count": 1,
   "metadata": {},
   "outputs": [],
   "source": [
    "import warnings\n",
    "warnings.filterwarnings('ignore')\n",
    "import pandas as pd\n",
    "import matplotlib.pyplot as plt\n",
    "import seaborn as sns\n",
    "import os\n",
    "sns.set_theme()"
   ]
  },
  {
   "cell_type": "code",
   "execution_count": 2,
   "metadata": {},
   "outputs": [],
   "source": [
    "files = [file for file in os.listdir(\".\\\\\") if file.endswith(\".csv\")]"
   ]
  },
  {
   "cell_type": "code",
   "execution_count": 3,
   "metadata": {},
   "outputs": [
    {
     "data": {
      "text/html": [
       "<div>\n",
       "<style scoped>\n",
       "    .dataframe tbody tr th:only-of-type {\n",
       "        vertical-align: middle;\n",
       "    }\n",
       "\n",
       "    .dataframe tbody tr th {\n",
       "        vertical-align: top;\n",
       "    }\n",
       "\n",
       "    .dataframe thead th {\n",
       "        text-align: right;\n",
       "    }\n",
       "</style>\n",
       "<table border=\"1\" class=\"dataframe\">\n",
       "  <thead>\n",
       "    <tr style=\"text-align: right;\">\n",
       "      <th></th>\n",
       "      <th>acc</th>\n",
       "      <th>epochs</th>\n",
       "    </tr>\n",
       "  </thead>\n",
       "  <tbody>\n",
       "    <tr>\n",
       "      <th>intense dataset 4 1 1 0</th>\n",
       "      <td>90.050833</td>\n",
       "      <td>4.375000</td>\n",
       "    </tr>\n",
       "    <tr>\n",
       "      <th>intense dataset 10 1 1 0</th>\n",
       "      <td>89.738333</td>\n",
       "      <td>2.708333</td>\n",
       "    </tr>\n",
       "    <tr>\n",
       "      <th>intense dataset 2 1 1 0</th>\n",
       "      <td>87.178750</td>\n",
       "      <td>7.291667</td>\n",
       "    </tr>\n",
       "    <tr>\n",
       "      <th>intense dataset 1 1 1 0</th>\n",
       "      <td>79.958333</td>\n",
       "      <td>8.541667</td>\n",
       "    </tr>\n",
       "    <tr>\n",
       "      <th>intense dataset 1 1 1 1</th>\n",
       "      <td>78.500000</td>\n",
       "      <td>9.750000</td>\n",
       "    </tr>\n",
       "    <tr>\n",
       "      <th>intense dataset 2 1 1 1</th>\n",
       "      <td>77.742500</td>\n",
       "      <td>10.708333</td>\n",
       "    </tr>\n",
       "    <tr>\n",
       "      <th>xite</th>\n",
       "      <td>66.291000</td>\n",
       "      <td>24.500000</td>\n",
       "    </tr>\n",
       "    <tr>\n",
       "      <th>intense dataset 1 0 regression</th>\n",
       "      <td>65.991250</td>\n",
       "      <td>9.208333</td>\n",
       "    </tr>\n",
       "    <tr>\n",
       "      <th>intense dataset 4 1 1 0 regression</th>\n",
       "      <td>52.352500</td>\n",
       "      <td>3.041667</td>\n",
       "    </tr>\n",
       "  </tbody>\n",
       "</table>\n",
       "</div>"
      ],
      "text/plain": [
       "                                          acc     epochs\n",
       "intense dataset 4 1 1 0             90.050833   4.375000\n",
       "intense dataset 10 1 1 0            89.738333   2.708333\n",
       "intense dataset 2 1 1 0             87.178750   7.291667\n",
       "intense dataset 1 1 1 0             79.958333   8.541667\n",
       "intense dataset 1 1 1 1             78.500000   9.750000\n",
       "intense dataset 2 1 1 1             77.742500  10.708333\n",
       "xite                                66.291000  24.500000\n",
       "intense dataset 1 0 regression      65.991250   9.208333\n",
       "intense dataset 4 1 1 0 regression  52.352500   3.041667"
      ]
     },
     "execution_count": 3,
     "metadata": {},
     "output_type": "execute_result"
    }
   ],
   "source": [
    "data_list = {}\n",
    "df = pd.DataFrame([])\n",
    "for file in files:\n",
    "    data = pd.read_csv(file)\n",
    "    data_list[file] = data\n",
    "    df = pd.concat([df, pd.DataFrame([data[\"accuracy\"].mean(), data[\"best_epoch\"].mean()]).T.rename(columns={0: \"acc\", 1: \"epochs\"}, index={0: file[:-4].replace(\"_\", \" \")})])\n",
    "df.sort_values(by=['acc'], ascending=False)"
   ]
  }
 ],
 "metadata": {
  "kernelspec": {
   "display_name": "Python 3.8.15",
   "language": "python",
   "name": "python3"
  },
  "language_info": {
   "codemirror_mode": {
    "name": "ipython",
    "version": 3
   },
   "file_extension": ".py",
   "mimetype": "text/x-python",
   "name": "python",
   "nbconvert_exporter": "python",
   "pygments_lexer": "ipython3",
   "version": "3.8.15"
  },
  "orig_nbformat": 4,
  "vscode": {
   "interpreter": {
    "hash": "15553fa20e7e98b2aa17988b3683b9c4372a086618e2f531c95263c140b6e43e"
   }
  }
 },
 "nbformat": 4,
 "nbformat_minor": 2
}
