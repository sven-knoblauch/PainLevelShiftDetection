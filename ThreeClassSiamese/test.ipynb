{
 "cells": [
  {
   "cell_type": "code",
   "execution_count": 1,
   "metadata": {},
   "outputs": [],
   "source": [
    "import sys\n",
    "sys.path.insert(0, 'D:\\Workspace\\workspace_masterarbeit\\PainLevelShiftDetection\\Classes')\n",
    "\n",
    "import warnings\n",
    "warnings.filterwarnings('ignore')\n",
    "\n",
    "\n",
    "from models import ClassificationModel, EmbeddingsModel, SiameseModel\n",
    "from trainer import SiameseTrainerThreeClass, all_subjects\n",
    "\n",
    "import numpy as np"
   ]
  },
  {
   "cell_type": "code",
   "execution_count": 2,
   "metadata": {},
   "outputs": [],
   "source": [
    "subjects_test = all_subjects[:13]\n",
    "subjects_train = [sub for sub in all_subjects if sub not in subjects_test]"
   ]
  },
  {
   "cell_type": "code",
   "execution_count": 3,
   "metadata": {},
   "outputs": [],
   "source": [
    "trainer_hyperparameter = {\n",
    "    \"path\": \"D:\\Workspace\\workspace_masterarbeit\\PainLevelShiftDetection\\FeatureGeneration\\dataset_processed\\XITE\\\\normalized_subjects_no_outliner.pkl\",\n",
    "    \"subjects_train\": all_subjects,\n",
    "    \"subjects_test\": subjects_test,\n",
    "    \"wandb\": False,\n",
    "    \"log\": True,\n",
    "    \"learning_rate\": 0.001,\n",
    "    \"batch_size\": 256,\n",
    "    \"batch_size_test\": 256,\n",
    "    \"freeze_embed\": False,\n",
    "    \"dataset_ignore_subject_train\": True,\n",
    "    \"dataset_ignore_subject_test\": False,\n",
    "    \"decision_function\": 3,\n",
    "    \"filter\": [],\n",
    "    \"weight_decay\": 0,\n",
    "    \"lr_steps\": 10,\n",
    "    \"adam\": True,\n",
    "    \"number_steps\": 50,\n",
    "    \"number_steps_testing\": 200,\n",
    "    \"number_steps_histogramm\": None\n",
    "}\n",
    "\n",
    "model_embedding_hyperparameter = {\n",
    "        \"sigmoid\": False,\n",
    "        \"dropout\": 0.35,\n",
    "        \"layers\": [207, 512, 64]\n",
    "}\n",
    "\n",
    "model_classifier_hyperparameter = {\n",
    "    \"dropout\": 0.35,\n",
    "    \"layers\": [64, 32],\n",
    "    \"head_type\": 2\n",
    "}"
   ]
  },
  {
   "cell_type": "code",
   "execution_count": 4,
   "metadata": {},
   "outputs": [],
   "source": [
    "classifier_model = ClassificationModel(model_classifier_hyperparameter)\n",
    "embedding_model = EmbeddingsModel(model_embedding_hyperparameter)\n",
    "\n",
    "siamese_model = SiameseModel(embedding_model, classifier_model, decision_function=trainer_hyperparameter[\"decision_function\"])"
   ]
  },
  {
   "cell_type": "code",
   "execution_count": 5,
   "metadata": {},
   "outputs": [],
   "source": [
    "filter = lambda data: data[\"label\"].isin(trainer_hyperparameter[\"filter\"])\n",
    "trainer = SiameseTrainerThreeClass(trainer_hyperparameter, siamese_model, device=\"cuda:0\", filter=None)"
   ]
  },
  {
   "cell_type": "code",
   "execution_count": 6,
   "metadata": {},
   "outputs": [
    {
     "name": "stderr",
     "output_type": "stream",
     "text": [
      "100%|██████████| 50/50 [00:38<00:00,  1.29it/s]\n"
     ]
    }
   ],
   "source": [
    "a = trainer.train()"
   ]
  }
 ],
 "metadata": {
  "kernelspec": {
   "display_name": "Python 3.8.15",
   "language": "python",
   "name": "python3"
  },
  "language_info": {
   "codemirror_mode": {
    "name": "ipython",
    "version": 3
   },
   "file_extension": ".py",
   "mimetype": "text/x-python",
   "name": "python",
   "nbconvert_exporter": "python",
   "pygments_lexer": "ipython3",
   "version": "3.8.15"
  },
  "orig_nbformat": 4,
  "vscode": {
   "interpreter": {
    "hash": "15553fa20e7e98b2aa17988b3683b9c4372a086618e2f531c95263c140b6e43e"
   }
  }
 },
 "nbformat": 4,
 "nbformat_minor": 2
}
