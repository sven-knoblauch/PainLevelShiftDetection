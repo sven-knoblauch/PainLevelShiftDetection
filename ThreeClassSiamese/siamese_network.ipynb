{
 "cells": [
  {
   "cell_type": "code",
   "execution_count": 1,
   "metadata": {},
   "outputs": [],
   "source": [
    "import sys\n",
    "sys.path.insert(0, 'D:\\Workspace\\workspace_masterarbeit\\PainLevelShiftDetection\\Classes')\n",
    "\n",
    "import warnings\n",
    "warnings.filterwarnings('ignore')\n",
    "\n",
    "\n",
    "from models import ClassificationModel, EmbeddingsModel, SiameseModel\n",
    "from trainer import SiameseTrainerThreeClass, all_subjects, all_subjects_intense\n",
    "\n",
    "import numpy as np\n",
    "from tqdm import tqdm\n",
    "import csv\n",
    "import torch"
   ]
  },
  {
   "attachments": {},
   "cell_type": "markdown",
   "metadata": {},
   "source": [
    "### Siamese training"
   ]
  },
  {
   "cell_type": "code",
   "execution_count": 2,
   "metadata": {},
   "outputs": [],
   "source": [
    "subjects_test = all_subjects_intense[:1]\n",
    "subjects_train = [sub for sub in all_subjects_intense if sub not in subjects_test]"
   ]
  },
  {
   "attachments": {},
   "cell_type": "markdown",
   "metadata": {},
   "source": [
    "set hyperparameters for models and trainer"
   ]
  },
  {
   "cell_type": "code",
   "execution_count": 3,
   "metadata": {},
   "outputs": [],
   "source": [
    "trainer_hyperparameter = {\n",
    "    \"path\": \"D:\\Workspace\\workspace_masterarbeit\\PainLevelShiftDetection\\FeatureGeneration\\dataset_processed\\INTENSE2\\\\normalized_subjects.pkl\",\n",
    "    \"subjects_train\": subjects_train,\n",
    "    \"subjects_test\": subjects_test,\n",
    "    \"intense_dataset_train\": True,\n",
    "    \"intense_dataset_test\": True,\n",
    "    \"xite_2class_train\": False,\n",
    "    \"xite_2class_test\": False,\n",
    "    \"indices1_train\": 1,\n",
    "    \"indices2_train\": 1,\n",
    "    \"indices1_test\": 1,\n",
    "    \"indices2_test\": 1,\n",
    "    \"use_regression\": True,\n",
    "    \"wandb\": False,\n",
    "    \"log\": True,\n",
    "    \"learning_rate\": 0.001,\n",
    "    \"batch_size\": 256,\n",
    "    \"batch_size_test\": 256,\n",
    "    \"freeze_embed\": False,\n",
    "    \"decision_function\": 3,\n",
    "    \"filter\": [1,2,3],\n",
    "    \"weight_decay\": 0,\n",
    "    \"lr_steps\": 10,\n",
    "    \"number_steps\": 200,\n",
    "    \"number_steps_testing\": 10\n",
    "}\n",
    "\n",
    "model_embedding_hyperparameter = {\n",
    "        \"sigmoid\": False,\n",
    "        \"dropout\": 0.35,\n",
    "        \"layers\": [207, 512, 64]\n",
    "}\n",
    "\n",
    "if trainer_hyperparameter[\"use_regression\"]:\n",
    "    head = 1\n",
    "else:\n",
    "    head = 2\n",
    "\n",
    "model_classifier_hyperparameter = {\n",
    "    \"dropout\": 0.35,\n",
    "    \"layers\": [64, 32],\n",
    "    \"head_type\": head\n",
    "}\n",
    "\n",
    "\n",
    "#\n",
    "# head 1 for regression\n",
    "# head 2 for classification\n",
    "#"
   ]
  },
  {
   "attachments": {},
   "cell_type": "markdown",
   "metadata": {},
   "source": [
    "generate siamese models with the corresponding classification network and embedding network"
   ]
  },
  {
   "cell_type": "code",
   "execution_count": 4,
   "metadata": {},
   "outputs": [],
   "source": [
    "classifier_model = ClassificationModel(model_classifier_hyperparameter)\n",
    "embedding_model = EmbeddingsModel(model_embedding_hyperparameter)\n",
    "\n",
    "siamese_model = SiameseModel(embedding_model, classifier_model, decision_function=trainer_hyperparameter[\"decision_function\"])\n",
    "#_ = siamese_model.load_state_dict(torch.load(\"D:\\Workspace\\workspace_masterarbeit\\PainLevelShiftDetection\\ThreeClassSiamese\\pretrained_models\\model_all_2class.pth\"))"
   ]
  },
  {
   "attachments": {},
   "cell_type": "markdown",
   "metadata": {},
   "source": [
    "generate filter for xite (heat, electric...) and generate trainer class"
   ]
  },
  {
   "cell_type": "code",
   "execution_count": 5,
   "metadata": {},
   "outputs": [],
   "source": [
    "filter = lambda data: data[\"label\"].isin(trainer_hyperparameter[\"filter\"])\n",
    "trainer = SiameseTrainerThreeClass(trainer_hyperparameter, siamese_model, device=\"cuda:0\", filter=None)"
   ]
  },
  {
   "attachments": {},
   "cell_type": "markdown",
   "metadata": {},
   "source": [
    "train the network"
   ]
  },
  {
   "cell_type": "code",
   "execution_count": 6,
   "metadata": {},
   "outputs": [
    {
     "name": "stderr",
     "output_type": "stream",
     "text": [
      "100%|██████████| 20/20 [00:35<00:00,  1.80s/it]"
     ]
    },
    {
     "name": "stdout",
     "output_type": "stream",
     "text": [
      "epoch: 1 | train_acc: 0.32 | test_acc: 0.3333\n",
      "epoch: 2 | train_acc: 0.3311 | test_acc: 0.3333\n",
      "epoch: 3 | train_acc: 0.371 | test_acc: 0.3333\n",
      "epoch: 4 | train_acc: 0.3267 | test_acc: 0.3333\n",
      "epoch: 5 | train_acc: 0.34 | test_acc: 0.3333\n",
      "epoch: 6 | train_acc: 0.3267 | test_acc: 0.3333\n",
      "epoch: 7 | train_acc: 0.3411 | test_acc: 0.3333\n",
      "epoch: 8 | train_acc: 0.3267 | test_acc: 0.3333\n",
      "epoch: 9 | train_acc: 0.3344 | test_acc: 0.3333\n",
      "epoch: 10 | train_acc: 0.3367 | test_acc: 0.3333\n",
      "epoch: 11 | train_acc: 0.33 | test_acc: 0.3333\n",
      "epoch: 12 | train_acc: 0.3433 | test_acc: 0.3333\n",
      "epoch: 13 | train_acc: 0.3189 | test_acc: 0.3333\n",
      "epoch: 14 | train_acc: 0.3367 | test_acc: 0.3333\n",
      "epoch: 15 | train_acc: 0.3256 | test_acc: 0.3333\n",
      "epoch: 16 | train_acc: 0.3344 | test_acc: 0.3333\n",
      "epoch: 17 | train_acc: 0.3212 | test_acc: 0.3333\n",
      "epoch: 18 | train_acc: 0.3333 | test_acc: 0.3333\n",
      "epoch: 19 | train_acc: 0.3278 | test_acc: 0.3333\n",
      "epoch: 20 | train_acc: 0.3322 | test_acc: 0.3333\n"
     ]
    },
    {
     "name": "stderr",
     "output_type": "stream",
     "text": [
      "\n"
     ]
    }
   ],
   "source": [
    "trainer.trainloop(20)"
   ]
  },
  {
   "attachments": {},
   "cell_type": "markdown",
   "metadata": {},
   "source": [
    "save model if needed"
   ]
  },
  {
   "cell_type": "code",
   "execution_count": 7,
   "metadata": {},
   "outputs": [],
   "source": [
    "#torch.save(siamese_model.state_dict(), \"D:\\Workspace\\workspace_masterarbeit\\PainLevelShiftDetection\\ThreeClassSiamese\\pretrained_models\\model_phasic_heat_2class.pth\")"
   ]
  },
  {
   "attachments": {},
   "cell_type": "markdown",
   "metadata": {},
   "source": [
    "display results"
   ]
  },
  {
   "cell_type": "code",
   "execution_count": 8,
   "metadata": {},
   "outputs": [
    {
     "data": {
      "image/png": "[encoded data removed]",
      "text/plain": [
       "<Figure size 640x480 with 1 Axes>"
      ]
     },
     "metadata": {},
     "output_type": "display_data"
    },
    {
     "data": {
      "image/png": "[encoded data removed]",
      "text/plain": [
       "<Figure size 640x480 with 1 Axes>"
      ]
     },
     "metadata": {},
     "output_type": "display_data"
    }
   ],
   "source": [
    "trainer.plot_history()"
   ]
  },
  {
   "cell_type": "code",
   "execution_count": 9,
   "metadata": {},
   "outputs": [
    {
     "data": {
      "image/png": "[encoded data removed]",
      "text/plain": [
       "<Figure size 640x480 with 1 Axes>"
      ]
     },
     "metadata": {},
     "output_type": "display_data"
    }
   ],
   "source": [
    "trainer.plot_cm()"
   ]
  },
  {
   "attachments": {},
   "cell_type": "markdown",
   "metadata": {},
   "source": [
    "### saving file"
   ]
  },
  {
   "cell_type": "code",
   "execution_count": 20,
   "metadata": {},
   "outputs": [],
   "source": [
    "saving_path = \"D:\\Workspace\\workspace_masterarbeit\\PainLevelShiftDetection\\ThreeClassSiamese\\\\results\\\\regression\\\\intense_4_1_1_0_regression2.csv\"\n",
    "#model_path = \"D:\\Workspace\\workspace_masterarbeit\\PainLevelShiftDetection\\ThreeClassSiamese\\pretrained_models\\model_phasic_heat_2class.pth\"\n",
    "\n",
    "with open(saving_path, mode='a') as result_file:\n",
    "    results_writer = csv.writer(result_file, delimiter=',', quotechar='\"', quoting=csv.QUOTE_MINIMAL)\n",
    "    results_writer.writerow([\"subj\", \"accuracy\", \"cm\", \"best_epoch\"])"
   ]
  },
  {
   "attachments": {},
   "cell_type": "markdown",
   "metadata": {},
   "source": [
    "### LOSO - INTENSE"
   ]
  },
  {
   "attachments": {},
   "cell_type": "markdown",
   "metadata": {},
   "source": [
    "use LOSO cross validation on INTENSE dataset"
   ]
  },
  {
   "cell_type": "code",
   "execution_count": 21,
   "metadata": {},
   "outputs": [
    {
     "name": "stderr",
     "output_type": "stream",
     "text": [
      "100%|██████████| 30/30 [02:24<00:00,  4.82s/it]\n",
      "100%|██████████| 24/24 [1:00:01<00:00, 150.07s/it]"
     ]
    },
    {
     "name": "stdout",
     "output_type": "stream",
     "text": [
      "epoch: 1 | train_acc: 0.411 | test_acc: 0.5\n",
      "epoch: 2 | train_acc: 0.4296 | test_acc: 0.5\n",
      "epoch: 3 | train_acc: 0.4395 | test_acc: 0.5\n",
      "epoch: 4 | train_acc: 0.441 | test_acc: 0.5\n",
      "epoch: 5 | train_acc: 0.4437 | test_acc: 0.5\n",
      "epoch: 6 | train_acc: 0.4422 | test_acc: 0.5\n",
      "epoch: 7 | train_acc: 0.4399 | test_acc: 0.4706\n",
      "epoch: 8 | train_acc: 0.4441 | test_acc: 0.5\n",
      "epoch: 9 | train_acc: 0.4433 | test_acc: 0.4706\n",
      "epoch: 10 | train_acc: 0.4277 | test_acc: 0.4706\n",
      "epoch: 11 | train_acc: 0.4414 | test_acc: 0.4412\n",
      "epoch: 12 | train_acc: 0.4414 | test_acc: 0.4412\n",
      "epoch: 13 | train_acc: 0.4228 | test_acc: 0.4412\n",
      "epoch: 14 | train_acc: 0.4399 | test_acc: 0.4412\n",
      "epoch: 15 | train_acc: 0.4467 | test_acc: 0.4412\n",
      "epoch: 16 | train_acc: 0.4262 | test_acc: 0.4412\n",
      "epoch: 17 | train_acc: 0.4357 | test_acc: 0.4412\n",
      "epoch: 18 | train_acc: 0.43 | test_acc: 0.4412\n",
      "epoch: 19 | train_acc: 0.4342 | test_acc: 0.4412\n",
      "epoch: 20 | train_acc: 0.4471 | test_acc: 0.4412\n",
      "epoch: 21 | train_acc: 0.4273 | test_acc: 0.4412\n",
      "epoch: 22 | train_acc: 0.4406 | test_acc: 0.4412\n",
      "epoch: 23 | train_acc: 0.4273 | test_acc: 0.4412\n",
      "epoch: 24 | train_acc: 0.4243 | test_acc: 0.4706\n",
      "epoch: 25 | train_acc: 0.4292 | test_acc: 0.4412\n",
      "epoch: 26 | train_acc: 0.4361 | test_acc: 0.4412\n",
      "epoch: 27 | train_acc: 0.4311 | test_acc: 0.4412\n",
      "epoch: 28 | train_acc: 0.4414 | test_acc: 0.4412\n",
      "epoch: 29 | train_acc: 0.4559 | test_acc: 0.4412\n",
      "epoch: 30 | train_acc: 0.4399 | test_acc: 0.4412\n"
     ]
    },
    {
     "name": "stderr",
     "output_type": "stream",
     "text": [
      "\n"
     ]
    }
   ],
   "source": [
    "for subj in tqdm(all_subjects_intense):\n",
    "    subjects_test = [subj]\n",
    "    subjects_train = [sub for sub in all_subjects_intense if sub not in subjects_test]\n",
    "\n",
    "    trainer_hyperparameter = {\n",
    "        \"path\": \"D:\\Workspace\\workspace_masterarbeit\\PainLevelShiftDetection\\FeatureGeneration\\dataset_processed\\INTENSE2\\\\normalized_subjects.pkl\",\n",
    "        \"subjects_train\": subjects_train,\n",
    "        \"subjects_test\": subjects_test,\n",
    "        \"intense_dataset_train\": True,\n",
    "        \"intense_dataset_test\": True,\n",
    "        \"xite_2class_train\": False,\n",
    "        \"xite_2class_test\": False,\n",
    "        \"indices1_train\": 4,\n",
    "        \"indices2_train\": 1,\n",
    "        \"indices1_test\": 1,\n",
    "        \"indices2_test\": 0,\n",
    "        \"use_regression\": True,\n",
    "        \"wandb\": False,\n",
    "        \"log\": True,\n",
    "        \"learning_rate\": 0.001,\n",
    "        \"batch_size\": 256,\n",
    "        \"batch_size_test\": 256,\n",
    "        \"freeze_embed\": False,\n",
    "        \"decision_function\": 3,\n",
    "        \"filter\": [],\n",
    "        \"weight_decay\": 0,\n",
    "        \"lr_steps\": 10,\n",
    "        \"number_steps\": 400,\n",
    "        \"number_steps_testing\": 200\n",
    "    }\n",
    "\n",
    "    model_embedding_hyperparameter = {\n",
    "            \"sigmoid\": False,\n",
    "            \"dropout\": 0.2,\n",
    "            \"layers\": [207, 512, 64]\n",
    "    }\n",
    "\n",
    "    if trainer_hyperparameter[\"use_regression\"]:\n",
    "        head = 1\n",
    "    else:\n",
    "        head=2\n",
    "\n",
    "    model_classifier_hyperparameter = {\n",
    "        \"dropout\": 0.2,\n",
    "        \"layers\": [64, 32],\n",
    "        \"head_type\": head\n",
    "    }\n",
    "\n",
    "    classifier_model = ClassificationModel(model_classifier_hyperparameter)\n",
    "    embedding_model = EmbeddingsModel(model_embedding_hyperparameter)\n",
    "    siamese_model = SiameseModel(embedding_model, classifier_model, decision_function=trainer_hyperparameter[\"decision_function\"])\n",
    "    \n",
    "    #_ = siamese_model.load_state_dict(torch.load(model_path))\n",
    "    \n",
    "    trainer = SiameseTrainerThreeClass(trainer_hyperparameter, siamese_model, device=\"cuda:0\")\n",
    "\n",
    "    trainer.trainloop(30)\n",
    "\n",
    "    best_epoch = max(trainer.history, key=lambda x:x['test_acc'])[\"epoch\"]\n",
    "    cm = trainer.history_cm[best_epoch-1][\"cm\"]\n",
    "\n",
    "    acc = trainer.history[best_epoch-1][\"test_acc\"]\n",
    "\n",
    "    s = np.sum(cm, axis=1)\n",
    "    cm = cm.astype('float64')\n",
    "    cm[0] = cm[0]/s[0]\n",
    "    cm[1] = cm[1]/s[1]\n",
    "    cm[2] = cm[2]/s[2]\n",
    "\n",
    "    with open(saving_path, mode='a') as result_file:\n",
    "        results_writer = csv.writer(result_file, delimiter=',', quotechar='\"', quoting=csv.QUOTE_MINIMAL)\n",
    "        results_writer.writerow([subj, acc*100, cm, best_epoch])"
   ]
  },
  {
   "attachments": {},
   "cell_type": "markdown",
   "metadata": {},
   "source": [
    "### 10 - Fold - XITE"
   ]
  },
  {
   "attachments": {},
   "cell_type": "markdown",
   "metadata": {},
   "source": [
    "use 10 fold cross validation for xite dataset ( no loop for using multiple scipts at the same time => speed up time)"
   ]
  },
  {
   "cell_type": "code",
   "execution_count": 3,
   "metadata": {},
   "outputs": [],
   "source": [
    "x=6\n",
    "subjects_test = all_subjects[x*13:(x+1)*13]\n",
    "subjects_train = [sub for sub in all_subjects if sub not in subjects_test]\n",
    "\n",
    "trainer_hyperparameter = {\n",
    "    \"path\": \"D:\\Workspace\\workspace_masterarbeit\\PainLevelShiftDetection\\FeatureGeneration\\dataset_processed\\XITE\\\\normalized_subjects.pkl\",\n",
    "    \"subjects_train\": subjects_train,\n",
    "    \"subjects_test\": subjects_test,\n",
    "    \"intense_dataset_train\": False,\n",
    "    \"intense_dataset_test\": False,\n",
    "    \"indices1_train\": 3,\n",
    "    \"indices2_train\": 1,\n",
    "    \"indices1_test\": 1,\n",
    "    \"indices2_test\": 0,\n",
    "    \"use_regression\": False,\n",
    "    \"wandb\": False,\n",
    "    \"log\": True,\n",
    "    \"learning_rate\": 0.001,\n",
    "    \"batch_size\": 256,\n",
    "    \"batch_size_test\": 256,\n",
    "    \"freeze_embed\": False,\n",
    "    \"decision_function\": 3,\n",
    "    \"filter\": [4,5,6],\n",
    "    \"weight_decay\": 0,\n",
    "    \"lr_steps\": 10,\n",
    "    \"number_steps\": 200,\n",
    "    \"number_steps_testing\": 100\n",
    "}\n",
    "\n",
    "model_embedding_hyperparameter = {\n",
    "        \"sigmoid\": False,\n",
    "        \"dropout\": 0.35,\n",
    "        \"layers\": [207, 512, 64]\n",
    "}\n",
    "\n",
    "if trainer_hyperparameter[\"use_regression\"]:\n",
    "    head = 1\n",
    "else:\n",
    "    head=2\n",
    "\n",
    "model_classifier_hyperparameter = {\n",
    "    \"dropout\": 0.35,\n",
    "    \"layers\": [64, 32],\n",
    "    \"head_type\": head\n",
    "}\n",
    "\n",
    "classifier_model = ClassificationModel(model_classifier_hyperparameter)\n",
    "embedding_model = EmbeddingsModel(model_embedding_hyperparameter)\n",
    "siamese_model = SiameseModel(embedding_model, classifier_model, decision_function=trainer_hyperparameter[\"decision_function\"])\n",
    "\n",
    "trainer = SiameseTrainerThreeClass(trainer_hyperparameter, siamese_model, device=\"cuda:0\")"
   ]
  },
  {
   "cell_type": "code",
   "execution_count": 4,
   "metadata": {},
   "outputs": [
    {
     "name": "stderr",
     "output_type": "stream",
     "text": [
      "100%|██████████| 30/30 [1:22:53<00:00, 165.79s/it]"
     ]
    },
    {
     "name": "stdout",
     "output_type": "stream",
     "text": [
      "epoch: 1 | train_acc: 0.5557 | test_acc: 0.5941\n",
      "epoch: 2 | train_acc: 0.6036 | test_acc: 0.5928\n",
      "epoch: 3 | train_acc: 0.61 | test_acc: 0.6057\n",
      "epoch: 4 | train_acc: 0.6209 | test_acc: 0.622\n",
      "epoch: 5 | train_acc: 0.6246 | test_acc: 0.6055\n",
      "epoch: 6 | train_acc: 0.6283 | test_acc: 0.5939\n",
      "epoch: 7 | train_acc: 0.6384 | test_acc: 0.6112\n",
      "epoch: 8 | train_acc: 0.6404 | test_acc: 0.6086\n",
      "epoch: 9 | train_acc: 0.6418 | test_acc: 0.61\n",
      "epoch: 10 | train_acc: 0.6465 | test_acc: 0.6077\n",
      "epoch: 11 | train_acc: 0.6473 | test_acc: 0.5995\n",
      "epoch: 12 | train_acc: 0.656 | test_acc: 0.6185\n",
      "epoch: 13 | train_acc: 0.6509 | test_acc: 0.6166\n",
      "epoch: 14 | train_acc: 0.657 | test_acc: 0.6195\n",
      "epoch: 15 | train_acc: 0.6581 | test_acc: 0.6214\n",
      "epoch: 16 | train_acc: 0.6545 | test_acc: 0.6263\n",
      "epoch: 17 | train_acc: 0.6613 | test_acc: 0.6125\n",
      "epoch: 18 | train_acc: 0.6604 | test_acc: 0.6311\n",
      "epoch: 19 | train_acc: 0.6602 | test_acc: 0.6191\n",
      "epoch: 20 | train_acc: 0.6643 | test_acc: 0.611\n",
      "epoch: 21 | train_acc: 0.6651 | test_acc: 0.6193\n",
      "epoch: 22 | train_acc: 0.6667 | test_acc: 0.6162\n",
      "epoch: 23 | train_acc: 0.6667 | test_acc: 0.6201\n",
      "epoch: 24 | train_acc: 0.6673 | test_acc: 0.6079\n",
      "epoch: 25 | train_acc: 0.6669 | test_acc: 0.6245\n",
      "epoch: 26 | train_acc: 0.6699 | test_acc: 0.6197\n",
      "epoch: 27 | train_acc: 0.6672 | test_acc: 0.6088\n",
      "epoch: 28 | train_acc: 0.666 | test_acc: 0.6212\n",
      "epoch: 29 | train_acc: 0.6662 | test_acc: 0.6195\n",
      "epoch: 30 | train_acc: 0.6707 | test_acc: 0.6009\n"
     ]
    },
    {
     "name": "stderr",
     "output_type": "stream",
     "text": [
      "\n"
     ]
    }
   ],
   "source": [
    "trainer.trainloop(30)"
   ]
  },
  {
   "attachments": {},
   "cell_type": "markdown",
   "metadata": {},
   "source": [
    "calculate results for saving"
   ]
  },
  {
   "cell_type": "code",
   "execution_count": 5,
   "metadata": {},
   "outputs": [],
   "source": [
    "best_epoch = max(trainer.history, key=lambda x:x['test_acc'])[\"epoch\"]\n",
    "cm = trainer.history_cm[best_epoch-1][\"cm\"]\n",
    "\n",
    "acc = trainer.history[best_epoch-1][\"test_acc\"]\n",
    "\n",
    "s = np.sum(cm, axis=1)\n",
    "cm = cm.astype('float64')\n",
    "cm[0] = cm[0]/s[0]\n",
    "cm[1] = cm[1]/s[1]\n",
    "cm[2] = cm[2]/s[2]"
   ]
  },
  {
   "cell_type": "code",
   "execution_count": 6,
   "metadata": {},
   "outputs": [
    {
     "data": {
      "text/plain": [
       "0.6311"
      ]
     },
     "execution_count": 6,
     "metadata": {},
     "output_type": "execute_result"
    }
   ],
   "source": [
    "acc"
   ]
  },
  {
   "attachments": {},
   "cell_type": "markdown",
   "metadata": {},
   "source": [
    "save results into file"
   ]
  },
  {
   "cell_type": "code",
   "execution_count": 7,
   "metadata": {},
   "outputs": [],
   "source": [
    "with open(saving_path, mode='a') as result_file:\n",
    "    results_writer = csv.writer(result_file, delimiter=',', quotechar='\"', quoting=csv.QUOTE_MINIMAL)\n",
    "    results_writer.writerow([\"split_\"+str(x), acc*100, cm, best_epoch])"
   ]
  }
 ],
 "metadata": {
  "kernelspec": {
   "display_name": "Python 3.8.15",
   "language": "python",
   "name": "python3"
  },
  "language_info": {
   "codemirror_mode": {
    "name": "ipython",
    "version": 3
   },
   "file_extension": ".py",
   "mimetype": "text/x-python",
   "name": "python",
   "nbconvert_exporter": "python",
   "pygments_lexer": "ipython3",
   "version": "3.8.15"
  },
  "orig_nbformat": 4,
  "vscode": {
   "interpreter": {
    "hash": "15553fa20e7e98b2aa17988b3683b9c4372a086618e2f531c95263c140b6e43e"
   }
  }
 },
 "nbformat": 4,
 "nbformat_minor": 2
}
