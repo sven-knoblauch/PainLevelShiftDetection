{
 "cells": [
  {
   "cell_type": "code",
   "execution_count": 12,
   "metadata": {},
   "outputs": [],
   "source": [
    "import warnings\n",
    "warnings.filterwarnings('ignore')\n",
    "import pandas as pd\n",
    "import matplotlib.pyplot as plt\n",
    "import seaborn as sns\n",
    "sns.set_theme()"
   ]
  },
  {
   "cell_type": "code",
   "execution_count": 13,
   "metadata": {},
   "outputs": [],
   "source": [
    "intense_distance_0_10_fold = \"intense_distance_0_10_fold.csv\"\n",
    "intense_distance_0_LOSO = \"intense_distance_0_LOSO.csv\"\n",
    "intense_distance_0_v2_LOSO = \"intense_distance_0_v2_LOSO.csv\"\n",
    "intense_distance_2_LOSO = \"intense_distance_2_LOSO.csv\"\n",
    "intense_distance_2_v2_LOSO = \"intense_distance_2_v2_LOSO.csv\""
   ]
  },
  {
   "cell_type": "code",
   "execution_count": 14,
   "metadata": {},
   "outputs": [],
   "source": [
    "intense_distance_0_10_fold = pd.read_csv(intense_distance_0_10_fold)\n",
    "intense_distance_0_LOSO = pd.read_csv(intense_distance_0_LOSO)\n",
    "intense_distance_0_v2_LOSO = pd.read_csv(intense_distance_0_v2_LOSO)\n",
    "intense_distance_2_LOSO = pd.read_csv(intense_distance_2_LOSO)\n",
    "intense_distance_2_v2_LOSO = pd.read_csv(intense_distance_2_v2_LOSO)"
   ]
  },
  {
   "cell_type": "code",
   "execution_count": 15,
   "metadata": {},
   "outputs": [
    {
     "data": {
      "text/html": [
       "<div>\n",
       "<style scoped>\n",
       "    .dataframe tbody tr th:only-of-type {\n",
       "        vertical-align: middle;\n",
       "    }\n",
       "\n",
       "    .dataframe tbody tr th {\n",
       "        vertical-align: top;\n",
       "    }\n",
       "\n",
       "    .dataframe thead th {\n",
       "        text-align: right;\n",
       "    }\n",
       "</style>\n",
       "<table border=\"1\" class=\"dataframe\">\n",
       "  <thead>\n",
       "    <tr style=\"text-align: right;\">\n",
       "      <th></th>\n",
       "      <th>acc</th>\n",
       "      <th>recall</th>\n",
       "      <th>precision</th>\n",
       "      <th>f1</th>\n",
       "    </tr>\n",
       "  </thead>\n",
       "  <tbody>\n",
       "    <tr>\n",
       "      <th>intense dist_0 10 fold</th>\n",
       "      <td>73.725000</td>\n",
       "      <td>0.763665</td>\n",
       "      <td>0.763665</td>\n",
       "      <td>0.763665</td>\n",
       "    </tr>\n",
       "    <tr>\n",
       "      <th>intense dist_0 LOSO</th>\n",
       "      <td>76.648750</td>\n",
       "      <td>0.797083</td>\n",
       "      <td>0.797083</td>\n",
       "      <td>0.797083</td>\n",
       "    </tr>\n",
       "    <tr>\n",
       "      <th>intense dist_0_v2 LOSO</th>\n",
       "      <td>69.727917</td>\n",
       "      <td>0.729978</td>\n",
       "      <td>0.729978</td>\n",
       "      <td>0.729978</td>\n",
       "    </tr>\n",
       "    <tr>\n",
       "      <th>intense dist_2 LOSO</th>\n",
       "      <td>69.827917</td>\n",
       "      <td>0.730344</td>\n",
       "      <td>0.730344</td>\n",
       "      <td>0.730344</td>\n",
       "    </tr>\n",
       "    <tr>\n",
       "      <th>intense dist_2_v2 LOSO</th>\n",
       "      <td>73.032917</td>\n",
       "      <td>0.764466</td>\n",
       "      <td>0.764466</td>\n",
       "      <td>0.764466</td>\n",
       "    </tr>\n",
       "  </tbody>\n",
       "</table>\n",
       "</div>"
      ],
      "text/plain": [
       "                              acc    recall  precision        f1\n",
       "intense dist_0 10 fold  73.725000  0.763665   0.763665  0.763665\n",
       "intense dist_0 LOSO     76.648750  0.797083   0.797083  0.797083\n",
       "intense dist_0_v2 LOSO  69.727917  0.729978   0.729978  0.729978\n",
       "intense dist_2 LOSO     69.827917  0.730344   0.730344  0.730344\n",
       "intense dist_2_v2 LOSO  73.032917  0.764466   0.764466  0.764466"
      ]
     },
     "execution_count": 15,
     "metadata": {},
     "output_type": "execute_result"
    }
   ],
   "source": [
    "df = pd.DataFrame([])\n",
    "df = pd.concat([df, pd.DataFrame([intense_distance_0_10_fold[\"accuracy\"].mean(), intense_distance_0_10_fold[\"recall\"].mean(), intense_distance_0_10_fold[\"precision\"].mean(), intense_distance_0_10_fold[\"f1\"].mean()]).T.rename(columns={0: \"acc\", 1: \"recall\", 2: \"precision\", 3: \"f1\"}, index={0: \"intense dist_0 10 fold\"})])\n",
    "df = pd.concat([df, pd.DataFrame([intense_distance_0_LOSO[\"accuracy\"].mean(), intense_distance_0_LOSO[\"recall\"].mean(), intense_distance_0_LOSO[\"precision\"].mean(), intense_distance_0_LOSO[\"f1\"].mean()]).T.rename(columns={0: \"acc\", 1: \"recall\", 2: \"precision\", 3: \"f1\"}, index={0: \"intense dist_0 LOSO\"})])\n",
    "df = pd.concat([df, pd.DataFrame([intense_distance_0_v2_LOSO[\"accuracy\"].mean(), intense_distance_0_v2_LOSO[\"recall\"].mean(), intense_distance_0_v2_LOSO[\"precision\"].mean(), intense_distance_0_v2_LOSO[\"f1\"].mean()]).T.rename(columns={0: \"acc\", 1: \"recall\", 2: \"precision\", 3: \"f1\"}, index={0: \"intense dist_0_v2 LOSO\"})])\n",
    "df = pd.concat([df, pd.DataFrame([intense_distance_2_LOSO[\"accuracy\"].mean(), intense_distance_2_LOSO[\"recall\"].mean(), intense_distance_2_LOSO[\"precision\"].mean(), intense_distance_2_LOSO[\"f1\"].mean()]).T.rename(columns={0: \"acc\", 1: \"recall\", 2: \"precision\", 3: \"f1\"}, index={0: \"intense dist_2 LOSO\"})])\n",
    "df = pd.concat([df, pd.DataFrame([intense_distance_2_v2_LOSO[\"accuracy\"].mean(), intense_distance_2_v2_LOSO[\"recall\"].mean(), intense_distance_2_v2_LOSO[\"precision\"].mean(), intense_distance_2_v2_LOSO[\"f1\"].mean()]).T.rename(columns={0: \"acc\", 1: \"recall\", 2: \"precision\", 3: \"f1\"}, index={0: \"intense dist_2_v2 LOSO\"})])\n",
    "df"
   ]
  },
  {
   "cell_type": "code",
   "execution_count": null,
   "metadata": {},
   "outputs": [],
   "source": []
  }
 ],
 "metadata": {
  "kernelspec": {
   "display_name": "Python 3.8.15",
   "language": "python",
   "name": "python3"
  },
  "language_info": {
   "codemirror_mode": {
    "name": "ipython",
    "version": 3
   },
   "file_extension": ".py",
   "mimetype": "text/x-python",
   "name": "python",
   "nbconvert_exporter": "python",
   "pygments_lexer": "ipython3",
   "version": "3.8.15"
  },
  "orig_nbformat": 4,
  "vscode": {
   "interpreter": {
    "hash": "15553fa20e7e98b2aa17988b3683b9c4372a086618e2f531c95263c140b6e43e"
   }
  }
 },
 "nbformat": 4,
 "nbformat_minor": 2
}
