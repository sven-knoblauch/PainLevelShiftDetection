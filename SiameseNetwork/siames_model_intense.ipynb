{
 "cells": [
  {
   "attachments": {},
   "cell_type": "markdown",
   "metadata": {},
   "source": [
    "### Imports"
   ]
  },
  {
   "cell_type": "code",
   "execution_count": 1,
   "metadata": {},
   "outputs": [],
   "source": [
    "import sys\n",
    "sys.path.insert(0, 'D:\\Workspace\\workspace_masterarbeit\\PainLevelShiftDetection\\Classes')\n",
    "\n",
    "import warnings\n",
    "warnings.filterwarnings('ignore')\n",
    "\n",
    "from models import ClassificationModel, EmbeddingsModel, SiameseModel\n",
    "from trainer import SiameseTrainerCombinationDataset, all_subjects_intense\n",
    "\n",
    "import torch\n",
    "import json\n",
    "import numpy as np\n",
    "import csv\n",
    "from tqdm import tqdm"
   ]
  },
  {
   "attachments": {},
   "cell_type": "markdown",
   "metadata": {},
   "source": [
    "\n",
    "### Set Hyperparameters"
   ]
  },
  {
   "cell_type": "code",
   "execution_count": 2,
   "metadata": {},
   "outputs": [],
   "source": [
    "subjects_test = [all_subjects_intense[0]]\n",
    "subjects_train = [sub for sub in all_subjects_intense if sub not in subjects_test]"
   ]
  },
  {
   "cell_type": "code",
   "execution_count": 57,
   "metadata": {},
   "outputs": [
    {
     "data": {
      "text/plain": [
       "['1']"
      ]
     },
     "execution_count": 57,
     "metadata": {},
     "output_type": "execute_result"
    }
   ],
   "source": [
    "subjects_test"
   ]
  },
  {
   "cell_type": "code",
   "execution_count": 52,
   "metadata": {},
   "outputs": [],
   "source": [
    "trainer_hyperparameter = {\n",
    "    \"path\": \"D:\\Workspace\\workspace_masterarbeit\\PainLevelShiftDetection\\FeatureGeneration\\dataset_processed\\INTENSE\\\\normalized_subjects_no_outliner.pkl\",\n",
    "    \"subjects_train\": subjects_train,\n",
    "    \"subjects_test\": subjects_test,\n",
    "    \"wandb\": False,\n",
    "    \"log\": True,\n",
    "    \"learning_rate\": 0.01,\n",
    "    \"batch_size\": 256,\n",
    "    \"batch_size_test\": 256,\n",
    "    \"freeze_embed\": False,\n",
    "    \"dataset_ignore_subject_train\": True,\n",
    "    \"dataset_ignore_subject_test\": False,\n",
    "    \"decision_function\": 0,\n",
    "    \"filter\": [1, 2, 3, 4, 5, 6],\n",
    "    \"weight_decay\": 0.001,\n",
    "    \"lr_steps\": 20,\n",
    "    \"adam\": True,\n",
    "    \"number_steps\": 200,\n",
    "    \"number_steps_testing\": 200,\n",
    "    \"number_steps_histogramm\": None\n",
    "}\n",
    "\n",
    "model_embedding_hyperparameter = {\n",
    "        \"sigmoid\": False,\n",
    "        \"dropout\": 0.35,\n",
    "        \"layers\": [207, 512, 64]\n",
    "}\n",
    "\n",
    "model_classifier_hyperparameter = {\n",
    "    \"dropout\": 0.35,\n",
    "    \"layers\": [256, 128]\n",
    "}"
   ]
  },
  {
   "attachments": {},
   "cell_type": "markdown",
   "metadata": {},
   "source": [
    "### Init models"
   ]
  },
  {
   "cell_type": "code",
   "execution_count": 53,
   "metadata": {},
   "outputs": [],
   "source": [
    "classifier_model = ClassificationModel(model_classifier_hyperparameter)\n",
    "embedding_model = EmbeddingsModel(model_embedding_hyperparameter)\n",
    "\n",
    "siamese_model = SiameseModel(embedding_model, classifier_model, decision_function=trainer_hyperparameter[\"decision_function\"])\n",
    "\n",
    "# #\n",
    "#  0 = abs(sub())\n",
    "#  1 = euclid\n",
    "#  2 = cos_simil\n",
    "# #"
   ]
  },
  {
   "cell_type": "code",
   "execution_count": 54,
   "metadata": {},
   "outputs": [],
   "source": [
    "trainer = SiameseTrainerCombinationDataset(trainer_hyperparameter, siamese_model, device=\"cuda:0\")"
   ]
  },
  {
   "attachments": {},
   "cell_type": "markdown",
   "metadata": {},
   "source": [
    "### start training"
   ]
  },
  {
   "cell_type": "code",
   "execution_count": null,
   "metadata": {},
   "outputs": [],
   "source": [
    "trainer.trainloop(60)"
   ]
  },
  {
   "cell_type": "code",
   "execution_count": null,
   "metadata": {},
   "outputs": [],
   "source": [
    "trainer.plot_history()"
   ]
  },
  {
   "attachments": {},
   "cell_type": "markdown",
   "metadata": {},
   "source": [
    "### plot additional result data"
   ]
  },
  {
   "cell_type": "code",
   "execution_count": null,
   "metadata": {},
   "outputs": [],
   "source": [
    "best_epoch = max(trainer.history, key=lambda x:x['test_acc'])[\"epoch\"]\n",
    "cm = trainer.history_cm[best_epoch-1][\"cm\"]\n",
    "\n",
    "print(\"acc:\", trainer.history[best_epoch-1][\"test_acc\"])"
   ]
  },
  {
   "cell_type": "code",
   "execution_count": null,
   "metadata": {},
   "outputs": [],
   "source": [
    "trainer.calculate_f_scores(cm)"
   ]
  },
  {
   "cell_type": "code",
   "execution_count": null,
   "metadata": {},
   "outputs": [],
   "source": [
    "trainer.plot_cm(cm)"
   ]
  },
  {
   "cell_type": "code",
   "execution_count": 62,
   "metadata": {},
   "outputs": [],
   "source": [
    "cm_normalized = cm/np.sum(cm,axis=1)"
   ]
  },
  {
   "cell_type": "code",
   "execution_count": 63,
   "metadata": {},
   "outputs": [],
   "source": [
    "saving_path = \"D:\\Workspace\\workspace_masterarbeit\\PainLevelShiftDetection\\SiameseNetwork\\Results-LOSO\\intense_distance_0.csv\""
   ]
  },
  {
   "cell_type": "code",
   "execution_count": 64,
   "metadata": {},
   "outputs": [],
   "source": [
    "acc = trainer.history[best_epoch-1][\"test_acc\"]\n",
    "results = trainer.calculate_f_scores(cm)\n",
    "recall = results[\"recall\"]\n",
    "precision = results[\"recall\"]\n",
    "f1 = results[\"recall\"]\n",
    "tn = cm_normalized[0,0]\n",
    "fn = cm_normalized[0,1]\n",
    "fp = cm_normalized[1,0]\n",
    "tp = cm_normalized[1,1]"
   ]
  },
  {
   "cell_type": "code",
   "execution_count": 65,
   "metadata": {},
   "outputs": [],
   "source": [
    "with open(saving_path, mode='a') as result_file:\n",
    "        results_writer = csv.writer(result_file, delimiter=',', quotechar='\"', quoting=csv.QUOTE_MINIMAL)\n",
    "        results_writer.writerow([subjects_test[0], acc*100, recall, precision, f1, tn, fn,fp, tp])"
   ]
  },
  {
   "attachments": {},
   "cell_type": "markdown",
   "metadata": {},
   "source": [
    "## LOOP"
   ]
  },
  {
   "cell_type": "code",
   "execution_count": 11,
   "metadata": {},
   "outputs": [],
   "source": [
    "saving_path = \"D:\\Workspace\\workspace_masterarbeit\\PainLevelShiftDetection\\SiameseNetwork\\Results-LOSO\\intense_distance_0_10_fold.csv\""
   ]
  },
  {
   "attachments": {},
   "cell_type": "markdown",
   "metadata": {},
   "source": [
    "10 fold cross validation"
   ]
  },
  {
   "cell_type": "code",
   "execution_count": 14,
   "metadata": {},
   "outputs": [
    {
     "name": "stderr",
     "output_type": "stream",
     "text": [
      "100%|██████████| 10/10 [52:38<00:00, 315.88s/it]\n"
     ]
    }
   ],
   "source": [
    "for x in tqdm(range(10)):\n",
    "    subjects_test = all_subjects_intense[int(x*2.4):int((x+1)*2.4)]\n",
    "    subjects_train = [sub for sub in all_subjects_intense if sub not in subjects_test]\n",
    "    \n",
    "    trainer_hyperparameter = {\n",
    "        \"path\": \"D:\\Workspace\\workspace_masterarbeit\\PainLevelShiftDetection\\FeatureGeneration\\dataset_processed\\INTENSE\\\\normalized_subjects_no_outliner.pkl\",\n",
    "        \"subjects_train\": subjects_train,\n",
    "        \"subjects_test\": subjects_test,\n",
    "        \"wandb\": False,\n",
    "        \"log\": False,\n",
    "        \"learning_rate\": 0.01,\n",
    "        \"batch_size\": 256,\n",
    "        \"batch_size_test\": 256,\n",
    "        \"freeze_embed\": False,\n",
    "        \"dataset_ignore_subject_train\": True,\n",
    "        \"dataset_ignore_subject_test\": False,\n",
    "        \"decision_function\": 0,\n",
    "        \"filter\": [1, 2, 3, 4, 5, 6],\n",
    "        \"weight_decay\": 0.001,\n",
    "        \"lr_steps\": 20,\n",
    "        \"adam\": True,\n",
    "        \"number_steps\": 200,\n",
    "        \"number_steps_testing\": 200,\n",
    "        \"number_steps_histogramm\": None\n",
    "    }\n",
    "\n",
    "    model_embedding_hyperparameter = {\n",
    "            \"sigmoid\": False,\n",
    "            \"dropout\": 0.35,\n",
    "            \"layers\": [207, 512, 64]\n",
    "    }\n",
    "\n",
    "    model_classifier_hyperparameter = {\n",
    "        \"dropout\": 0.35,\n",
    "        \"layers\": [64, 32]\n",
    "    }\n",
    "\n",
    "    classifier_model = ClassificationModel(model_classifier_hyperparameter)\n",
    "    embedding_model = EmbeddingsModel(model_embedding_hyperparameter)\n",
    "\n",
    "    siamese_model = SiameseModel(embedding_model, classifier_model, decision_function=trainer_hyperparameter[\"decision_function\"])\n",
    "\n",
    "    trainer = SiameseTrainerCombinationDataset(trainer_hyperparameter, siamese_model, device=\"cuda:0\")\n",
    "\n",
    "    trainer.trainloop(30)\n",
    "\n",
    "    best_epoch = max(trainer.history, key=lambda x:x['test_acc'])[\"epoch\"]\n",
    "    cm = trainer.history_cm[best_epoch-1][\"cm\"]\n",
    "    cm_normalized = cm/np.sum(cm,axis=1)\n",
    "\n",
    "    acc = trainer.history[best_epoch-1][\"test_acc\"]\n",
    "    results = trainer.calculate_f_scores(cm)\n",
    "    recall = results[\"recall\"]\n",
    "    precision = results[\"recall\"]\n",
    "    f1 = results[\"recall\"]\n",
    "    tn = cm_normalized[0,0]\n",
    "    fn = cm_normalized[0,1]\n",
    "    fp = cm_normalized[1,0]\n",
    "    tp = cm_normalized[1,1]\n",
    "\n",
    "    with open(saving_path, mode='a') as result_file:\n",
    "            results_writer = csv.writer(result_file, delimiter=',', quotechar='\"', quoting=csv.QUOTE_MINIMAL)\n",
    "            results_writer.writerow([\"split_\"+str(x), acc*100, recall, precision, f1, tn, fn,fp, tp])"
   ]
  },
  {
   "attachments": {},
   "cell_type": "markdown",
   "metadata": {},
   "source": [
    "LOSO"
   ]
  },
  {
   "cell_type": "code",
   "execution_count": 15,
   "metadata": {},
   "outputs": [
    {
     "name": "stderr",
     "output_type": "stream",
     "text": [
      "100%|██████████| 24/24 [1:50:11<00:00, 275.49s/it]\n"
     ]
    }
   ],
   "source": [
    "for subj in tqdm(all_subjects_intense):\n",
    "    subjects_test = [subj]\n",
    "    subjects_train = [sub for sub in all_subjects_intense if sub not in subjects_test]\n",
    "\n",
    "    trainer_hyperparameter = {\n",
    "        \"path\": \"D:\\Workspace\\workspace_masterarbeit\\PainLevelShiftDetection\\FeatureGeneration\\dataset_processed\\INTENSE\\\\normalized_subjects_no_outliner.pkl\",\n",
    "        \"subjects_train\": subjects_train,\n",
    "        \"subjects_test\": subjects_test,\n",
    "        \"wandb\": False,\n",
    "        \"log\": False,\n",
    "        \"learning_rate\": 0.01,\n",
    "        \"batch_size\": 256,\n",
    "        \"batch_size_test\": 256,\n",
    "        \"freeze_embed\": False,\n",
    "        \"dataset_ignore_subject_train\": True,\n",
    "        \"dataset_ignore_subject_test\": False,\n",
    "        \"decision_function\": 2,\n",
    "        \"filter\": [1, 2, 3, 4, 5, 6],\n",
    "        \"weight_decay\": 0.001,\n",
    "        \"lr_steps\": 20,\n",
    "        \"adam\": True,\n",
    "        \"number_steps\": 200,\n",
    "        \"number_steps_testing\": 200,\n",
    "        \"number_steps_histogramm\": None\n",
    "    }\n",
    "\n",
    "    model_embedding_hyperparameter = {\n",
    "            \"sigmoid\": False,\n",
    "            \"dropout\": 0.35,\n",
    "            \"layers\": [207, 512, 64]\n",
    "    }\n",
    "\n",
    "    model_classifier_hyperparameter = {\n",
    "        \"dropout\": 0.35,\n",
    "        \"layers\": [1]\n",
    "    }\n",
    "\n",
    "    classifier_model = ClassificationModel(model_classifier_hyperparameter)\n",
    "    embedding_model = EmbeddingsModel(model_embedding_hyperparameter)\n",
    "\n",
    "    siamese_model = SiameseModel(embedding_model, classifier_model, decision_function=trainer_hyperparameter[\"decision_function\"])\n",
    "\n",
    "    trainer = SiameseTrainerCombinationDataset(trainer_hyperparameter, siamese_model, device=\"cuda:0\")\n",
    "\n",
    "    trainer.trainloop(30)\n",
    "\n",
    "    best_epoch = max(trainer.history, key=lambda x:x['test_acc'])[\"epoch\"]\n",
    "    cm = trainer.history_cm[best_epoch-1][\"cm\"]\n",
    "    cm_normalized = cm/np.sum(cm,axis=1)\n",
    "\n",
    "    acc = trainer.history[best_epoch-1][\"test_acc\"]\n",
    "    results = trainer.calculate_f_scores(cm)\n",
    "    recall = results[\"recall\"]\n",
    "    precision = results[\"recall\"]\n",
    "    f1 = results[\"recall\"]\n",
    "    tn = cm_normalized[0,0]\n",
    "    fn = cm_normalized[0,1]\n",
    "    fp = cm_normalized[1,0]\n",
    "    tp = cm_normalized[1,1]\n",
    "\n",
    "    with open(saving_path, mode='a') as result_file:\n",
    "            results_writer = csv.writer(result_file, delimiter=',', quotechar='\"', quoting=csv.QUOTE_MINIMAL)\n",
    "            results_writer.writerow([subj, acc*100, recall, precision, f1, tn, fn,fp, tp])"
   ]
  }
 ],
 "metadata": {
  "kernelspec": {
   "display_name": "Python 3.8.15",
   "language": "python",
   "name": "python3"
  },
  "language_info": {
   "codemirror_mode": {
    "name": "ipython",
    "version": 3
   },
   "file_extension": ".py",
   "mimetype": "text/x-python",
   "name": "python",
   "nbconvert_exporter": "python",
   "pygments_lexer": "ipython3",
   "version": "3.8.15"
  },
  "orig_nbformat": 4,
  "vscode": {
   "interpreter": {
    "hash": "15553fa20e7e98b2aa17988b3683b9c4372a086618e2f531c95263c140b6e43e"
   }
  }
 },
 "nbformat": 4,
 "nbformat_minor": 2
}
