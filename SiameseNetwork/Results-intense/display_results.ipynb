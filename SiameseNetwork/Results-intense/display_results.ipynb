{
 "cells": [
  {
   "cell_type": "code",
   "execution_count": 1,
   "metadata": {},
   "outputs": [],
   "source": [
    "import warnings\n",
    "warnings.filterwarnings('ignore')\n",
    "import pandas as pd\n",
    "import matplotlib.pyplot as plt\n",
    "import os\n",
    "import seaborn as sns\n",
    "sns.set_theme()"
   ]
  },
  {
   "cell_type": "code",
   "execution_count": 5,
   "metadata": {},
   "outputs": [],
   "source": [
    "files = [file for file in os.listdir(\".\\\\\") if file.endswith(\".csv\")]"
   ]
  },
  {
   "cell_type": "code",
   "execution_count": 6,
   "metadata": {},
   "outputs": [
    {
     "data": {
      "text/html": [
       "<div>\n",
       "<style scoped>\n",
       "    .dataframe tbody tr th:only-of-type {\n",
       "        vertical-align: middle;\n",
       "    }\n",
       "\n",
       "    .dataframe tbody tr th {\n",
       "        vertical-align: top;\n",
       "    }\n",
       "\n",
       "    .dataframe thead th {\n",
       "        text-align: right;\n",
       "    }\n",
       "</style>\n",
       "<table border=\"1\" class=\"dataframe\">\n",
       "  <thead>\n",
       "    <tr style=\"text-align: right;\">\n",
       "      <th></th>\n",
       "      <th>acc</th>\n",
       "      <th>recall</th>\n",
       "      <th>precision</th>\n",
       "      <th>f1</th>\n",
       "    </tr>\n",
       "  </thead>\n",
       "  <tbody>\n",
       "    <tr>\n",
       "      <th>intense distance 2 v2 LOSO</th>\n",
       "      <td>73.032917</td>\n",
       "      <td>0.764466</td>\n",
       "      <td>0.764466</td>\n",
       "      <td>0.764466</td>\n",
       "    </tr>\n",
       "    <tr>\n",
       "      <th>intense distance 0 LOSO</th>\n",
       "      <td>72.582917</td>\n",
       "      <td>0.756242</td>\n",
       "      <td>0.756242</td>\n",
       "      <td>0.756242</td>\n",
       "    </tr>\n",
       "    <tr>\n",
       "      <th>intense distance 2 LOSO</th>\n",
       "      <td>69.827917</td>\n",
       "      <td>0.730344</td>\n",
       "      <td>0.730344</td>\n",
       "      <td>0.730344</td>\n",
       "    </tr>\n",
       "    <tr>\n",
       "      <th>intense distance 0 v2 LOSO</th>\n",
       "      <td>69.727917</td>\n",
       "      <td>0.729978</td>\n",
       "      <td>0.729978</td>\n",
       "      <td>0.729978</td>\n",
       "    </tr>\n",
       "    <tr>\n",
       "      <th>intense distance 0 v2 10 fold</th>\n",
       "      <td>68.706000</td>\n",
       "      <td>0.719811</td>\n",
       "      <td>0.719811</td>\n",
       "      <td>0.719811</td>\n",
       "    </tr>\n",
       "  </tbody>\n",
       "</table>\n",
       "</div>"
      ],
      "text/plain": [
       "                                     acc    recall  precision        f1\n",
       "intense distance 2 v2 LOSO     73.032917  0.764466   0.764466  0.764466\n",
       "intense distance 0 LOSO        72.582917  0.756242   0.756242  0.756242\n",
       "intense distance 2 LOSO        69.827917  0.730344   0.730344  0.730344\n",
       "intense distance 0 v2 LOSO     69.727917  0.729978   0.729978  0.729978\n",
       "intense distance 0 v2 10 fold  68.706000  0.719811   0.719811  0.719811"
      ]
     },
     "execution_count": 6,
     "metadata": {},
     "output_type": "execute_result"
    }
   ],
   "source": [
    "data_list = {}\n",
    "df = pd.DataFrame([])\n",
    "for file in files:\n",
    "    data = pd.read_csv(file)\n",
    "    data_list[file] = data\n",
    "    df = pd.concat([df, pd.DataFrame([data[\"accuracy\"].mean(), data[\"recall\"].mean(), data[\"precision\"].mean(), data[\"f1\"].mean()]).T.rename(columns={0: \"acc\", 1: \"recall\", 2: \"precision\", 3: \"f1\"}, index={0: file[:-4].replace(\"_\", \" \")})])\n",
    "df.sort_values(by=['acc'], ascending=False)"
   ]
  }
 ],
 "metadata": {
  "kernelspec": {
   "display_name": "Python 3.8.15",
   "language": "python",
   "name": "python3"
  },
  "language_info": {
   "codemirror_mode": {
    "name": "ipython",
    "version": 3
   },
   "file_extension": ".py",
   "mimetype": "text/x-python",
   "name": "python",
   "nbconvert_exporter": "python",
   "pygments_lexer": "ipython3",
   "version": "3.8.15"
  },
  "orig_nbformat": 4,
  "vscode": {
   "interpreter": {
    "hash": "15553fa20e7e98b2aa17988b3683b9c4372a086618e2f531c95263c140b6e43e"
   }
  }
 },
 "nbformat": 4,
 "nbformat_minor": 2
}
