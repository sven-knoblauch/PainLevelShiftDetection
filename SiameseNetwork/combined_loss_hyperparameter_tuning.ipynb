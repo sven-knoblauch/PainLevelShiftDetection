{
 "cells": [
  {
   "cell_type": "code",
   "execution_count": 1,
   "metadata": {},
   "outputs": [
    {
     "name": "stderr",
     "output_type": "stream",
     "text": [
      "wandb: Currently logged in as: svenk. Use `wandb login --relogin` to force relogin\n"
     ]
    }
   ],
   "source": [
    "import sys\n",
    "sys.path.insert(0, 'D:\\Workspace\\workspace_masterarbeit\\PainLevelShiftDetection\\Classes')\n",
    "\n",
    "import warnings\n",
    "warnings.filterwarnings('ignore')\n",
    "\n",
    "from models import ClassificationModel, EmbeddingsModel\n",
    "from trainer import SiameseTrainerCombinedLoss, all_subjects\n",
    "import torch\n",
    "\n",
    "import wandb\n",
    "!wandb login"
   ]
  },
  {
   "cell_type": "code",
   "execution_count": 2,
   "metadata": {},
   "outputs": [],
   "source": [
    "subjects_test = [all_subjects[0]]\n",
    "subjects_train = [sub for sub in all_subjects if sub not in subjects_test]"
   ]
  },
  {
   "cell_type": "code",
   "execution_count": 3,
   "metadata": {},
   "outputs": [],
   "source": [
    "sweep_config = {\n",
    "    'method': 'random',\n",
    "    \"early_terminate\": {\n",
    "          \"type\": \"hyperband\",\n",
    "          \"max_iter\": 10,\n",
    "          \"s\": 2\n",
    "    },\n",
    "    \"metric\": {\n",
    "        'name': 'accuracy',\n",
    "        'goal': 'maximize'\n",
    "    },\n",
    "    \"parameters\": {\n",
    "        \"lr\": {'max': 0.01, 'min': 0.0001},\n",
    "        \"weight_decay\": {'max': 0.01, 'min': 0.0001},\n",
    "        \"dropout\": {'max': 0.6, 'min': 0.0},\n",
    "        \"lambda_loss\": {'max': 0.8, 'min': 0.2}\n",
    "    }\n",
    "}"
   ]
  },
  {
   "cell_type": "code",
   "execution_count": 4,
   "metadata": {},
   "outputs": [],
   "source": [
    "def train(config=None):\n",
    "    with wandb.init(config=config):\n",
    "        config = wandb.config\n",
    "        \n",
    "        trainer_hyperparameter = {\n",
    "            \"path\": \"D:\\Workspace\\workspace_masterarbeit\\PainLevelShiftDetection\\FeatureGeneration\\dataset_processed\\XITE\\\\normalized_subjects.pkl\",\n",
    "            \"subjects_train\": subjects_train,\n",
    "            \"subjects_test\": subjects_test,\n",
    "            \"dataset_ignore_sample_subject\": False,\n",
    "            \"wandb\": True,\n",
    "            \"log\": False,\n",
    "            \"filter\": [],\n",
    "            \"batch_size\": 256,\n",
    "            \"batch_size_test\": 64,\n",
    "            \"margin\": 0.04,\n",
    "            \"number_steps\": 2000,\n",
    "            \"learning_rate\": config.lr,\n",
    "            \"lambda_loss\": config.lambda_loss,\n",
    "            \"weight_decay\": config.weight_decay\n",
    "        }\n",
    "\n",
    "        model_embedding_hyperparameter = {\n",
    "            \"sigmoid\": True,\n",
    "            \"dropout\": config.dropout,\n",
    "            \"layers\": [207, 512, 64]\n",
    "        }\n",
    "\n",
    "        model_classifier_hyperparameter = {\n",
    "            \"dropout\": config.dropout,\n",
    "            \"layers\": [64, 32]\n",
    "        }\n",
    "\n",
    "        classifier_model = ClassificationModel(model_classifier_hyperparameter)\n",
    "        embedding_model = EmbeddingsModel(model_embedding_hyperparameter)\n",
    "        _ = embedding_model.load_state_dict(torch.load(\"D:\\Workspace\\workspace_masterarbeit\\PainLevelShiftDetection\\Results\\models\\embedding_models\\model_abs_acc_89.40.pth\"))\n",
    "        #filter = lambda data: data[\"label\"].isin(trainer_hyperparameter[\"filter\"])\n",
    "        trainer = SiameseTrainerCombinedLoss(trainer_hyperparameter, classifier_model, embedding_model, filter=None)\n",
    "\n",
    "        trainer.trainloop(3)"
   ]
  },
  {
   "cell_type": "code",
   "execution_count": null,
   "metadata": {},
   "outputs": [],
   "source": [
    "sweep_id = wandb.sweep(sweep_config, project=\"PainLevelShiftDetection_Combined_Loss_SiameseNetwork\")"
   ]
  },
  {
   "cell_type": "code",
   "execution_count": null,
   "metadata": {},
   "outputs": [],
   "source": [
    "wandb.agent(sweep_id, train, count=30)"
   ]
  }
 ],
 "metadata": {
  "kernelspec": {
   "display_name": "Python 3.8.15",
   "language": "python",
   "name": "python3"
  },
  "language_info": {
   "codemirror_mode": {
    "name": "ipython",
    "version": 3
   },
   "file_extension": ".py",
   "mimetype": "text/x-python",
   "name": "python",
   "nbconvert_exporter": "python",
   "pygments_lexer": "ipython3",
   "version": "3.8.15"
  },
  "orig_nbformat": 4,
  "vscode": {
   "interpreter": {
    "hash": "15553fa20e7e98b2aa17988b3683b9c4372a086618e2f531c95263c140b6e43e"
   }
  }
 },
 "nbformat": 4,
 "nbformat_minor": 2
}
