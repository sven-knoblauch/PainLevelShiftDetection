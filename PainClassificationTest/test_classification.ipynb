{
 "cells": [
  {
   "cell_type": "code",
   "execution_count": 1,
   "metadata": {},
   "outputs": [],
   "source": [
    "import sys\n",
    "sys.path.insert(0, 'D:\\Workspace\\workspace_masterarbeit\\PainLevelShiftDetection\\Classes')\n",
    "\n",
    "import warnings\n",
    "warnings.filterwarnings('ignore')\n",
    "\n",
    "from models import EmbeddingsModel\n",
    "from trainer import EmbeddingTrainer, all_subjects, AccuracyTester, all_subjects_intense\n",
    "from pytorch_metric_learning import distances\n",
    "\n",
    "\n",
    "import csv\n",
    "import pandas as pd\n",
    "from tqdm import tqdm\n",
    "from functools import partialmethod\n",
    "tqdm.__init__ = partialmethod(tqdm.__init__, disable=True)"
   ]
  },
  {
   "attachments": {},
   "cell_type": "markdown",
   "metadata": {},
   "source": [
    "setup parameters"
   ]
  },
  {
   "cell_type": "code",
   "execution_count": 7,
   "metadata": {},
   "outputs": [],
   "source": [
    "use_model = True\n",
    "\n",
    "saving_path = \"D:\\Workspace\\workspace_masterarbeit\\PainLevelShiftDetection\\PainClassificationTest\\Results-10-fold-crossval\\\\xite_tonic_electric2.csv\""
   ]
  },
  {
   "cell_type": "code",
   "execution_count": 3,
   "metadata": {},
   "outputs": [],
   "source": [
    "#init file\n",
    "with open(saving_path, mode='w') as result_file:\n",
    "    results_writer = csv.writer(result_file, delimiter=',', quotechar='\"', quoting=csv.QUOTE_MINIMAL)\n",
    "    results_writer.writerow([\"subject\", \"accuracy\"])"
   ]
  },
  {
   "attachments": {},
   "cell_type": "markdown",
   "metadata": {},
   "source": [
    "get all not processed subjects"
   ]
  },
  {
   "cell_type": "code",
   "execution_count": 8,
   "metadata": {},
   "outputs": [],
   "source": [
    "already_processed = list(pd.read_csv(saving_path)[\"subject\"])\n",
    "not_processed = [sub for sub in all_subjects if sub not in already_processed]"
   ]
  },
  {
   "attachments": {},
   "cell_type": "markdown",
   "metadata": {},
   "source": [
    "## 10 Split Cross Validation"
   ]
  },
  {
   "cell_type": "code",
   "execution_count": 9,
   "metadata": {},
   "outputs": [],
   "source": [
    "for x in range(len(already_processed), 10):\n",
    "    subjects_test = all_subjects[x*13: (x+1)*13]\n",
    "    subjects_train = [sub for sub in all_subjects if sub not in subjects_test]\n",
    "    \n",
    "    #set hyperparameters\n",
    "    trainer_hyperparameter = {\n",
    "        \"path_train\": \"D:\\Workspace\\workspace_masterarbeit\\PainLevelShiftDetection\\FeatureGeneration\\dataset_processed\\XITE\\\\normalized_subjects_no_outliner.pkl\",\n",
    "        \"subjects_train\": subjects_train,\n",
    "        \"path_test\": \"D:\\Workspace\\workspace_masterarbeit\\PainLevelShiftDetection\\FeatureGeneration\\dataset_processed\\XITE\\\\normalized_subjects_no_outliner.pkl\",\n",
    "        \"subjects_test\": subjects_test,\n",
    "        \"acc_tester_metric\": \"AMI\",\n",
    "        \"wandb\": False,\n",
    "        \"acc_in_loop\": False,\n",
    "        \"learning_rate\": 0.001,\n",
    "        \"batch_size\": 256,\n",
    "        \"margin\": 0.09,\n",
    "        \"lr_steps\": 4,\n",
    "        \"filter\": [-4,-5,-6]\n",
    "    }\n",
    "    \n",
    "    model_hyperparameter = {\n",
    "        \"sigmoid\": False,\n",
    "        \"dropout\": 0.35,\n",
    "        \"layers\": [207, 512, 64]\n",
    "    }\n",
    "\n",
    "\n",
    "    filter = lambda data: data[\"label\"].isin(trainer_hyperparameter[\"filter\"])\n",
    "    #filter = None\n",
    "    \n",
    "    #model if needed\n",
    "    if use_model:\n",
    "        distance  = distances.LpDistance(p=1)\n",
    "        #distance  = distances.LpDistance(p=2)\n",
    "        #distance = distances.SNRDistance()\n",
    "        #distance = distances.DotProductSimilarity()\n",
    "        #distance = distances.CosineSimilarity()\n",
    "        model = EmbeddingsModel(model_hyperparameter)\n",
    "        trainer = EmbeddingTrainer(trainer_hyperparameter, model, filter=filter, distance=distance, device=\"cuda:0\")\n",
    "        trainer.trainloop(30)\n",
    "\n",
    "\n",
    "    \n",
    "\n",
    "    if use_model:\n",
    "        acc = trainer.test_accuracy(max_depth=16)\n",
    "    else:\n",
    "        #acc testet\n",
    "        acc_tester_hyperparameter = {\n",
    "            \"path\": \"D:\\Workspace\\workspace_masterarbeit\\PainLevelShiftDetection\\FeatureGeneration\\dataset_processed\\XITE\\\\normalized_subjects_no_outliner.pkl\",\n",
    "            \"subjects_train\": subjects_train,\n",
    "            \"subjects_test\": subjects_test\n",
    "        }\n",
    "        acc_tester = AccuracyTester(acc_tester_hyperparameter, filter=filter, device=\"cuda:0\")\n",
    "\n",
    "        acc = acc_tester.test_model(max_depth=16)\n",
    "\n",
    "    with open(saving_path, mode='a') as result_file:\n",
    "        results_writer = csv.writer(result_file, delimiter=',', quotechar='\"', quoting=csv.QUOTE_MINIMAL)\n",
    "        results_writer.writerow([\"split_\"+str(x), acc*100])"
   ]
  },
  {
   "attachments": {},
   "cell_type": "markdown",
   "metadata": {},
   "source": [
    "## LOSO Crossvalidation "
   ]
  },
  {
   "cell_type": "code",
   "execution_count": 26,
   "metadata": {},
   "outputs": [],
   "source": [
    "for subj in tqdm(not_processed):\n",
    "\n",
    "    subjects_test = [subj]\n",
    "    subjects_train = [sub for sub in all_subjects_intense if sub not in subjects_test]\n",
    "\n",
    "\n",
    "    trainer_hyperparameter = {\n",
    "        \"path_train\": \"D:\\Workspace\\workspace_masterarbeit\\PainLevelShiftDetection\\FeatureGeneration\\dataset_processed\\INTENSE\\\\normalized_subjects_no_outliner.pkl\",\n",
    "        \"subjects_train\": subjects_train,\n",
    "        \"path_test\": \"D:\\Workspace\\workspace_masterarbeit\\PainLevelShiftDetection\\FeatureGeneration\\dataset_processed\\INTENSE\\\\normalized_subjects_no_outliner.pkl\",\n",
    "        \"subjects_test\": subjects_test,\n",
    "        \"acc_tester_metric\": \"AMI\",\n",
    "        \"wandb\": False,\n",
    "        \"acc_in_loop\": False,\n",
    "        \"learning_rate\": 0.001,\n",
    "        \"batch_size\": 256,\n",
    "        \"margin\": 0.09,\n",
    "        \"lr_steps\": 20,\n",
    "        \"filter\": [-6,-5,-4,-3,-2,-1,1,2,3,4,5,6]\n",
    "    }\n",
    "\n",
    "    model_hyperparameter = {\n",
    "        \"sigmoid\": False,\n",
    "        \"dropout\": 0.35,\n",
    "        \"layers\": [207, 512, 64]\n",
    "    }\n",
    "\n",
    "\n",
    "    filter = lambda data: data[\"label\"].isin(trainer_hyperparameter[\"filter\"])\n",
    "    filter = None\n",
    "    #model if needed\n",
    "    if use_model:\n",
    "        distance  = distances.LpDistance(p=1)\n",
    "        #distance  = distances.LpDistance(p=2)\n",
    "        #distance = distances.SNRDistance()\n",
    "        #distance = distances.DotProductSimilarity()\n",
    "        #distance = distances.CosineSimilarity()\n",
    "        model = EmbeddingsModel(model_hyperparameter)\n",
    "        trainer = EmbeddingTrainer(trainer_hyperparameter, model, filter=filter, distance=distance, device=\"cuda:0\")\n",
    "        trainer.trainloop(100)\n",
    "\n",
    "\n",
    "    \n",
    "\n",
    "    if use_model:\n",
    "        acc = trainer.test_accuracy(max_depth=16)\n",
    "    else:\n",
    "        #acc testet\n",
    "        acc_tester_hyperparameter = {\n",
    "            \"path\": \"D:\\Workspace\\workspace_masterarbeit\\PainLevelShiftDetection\\FeatureGeneration\\dataset_processed\\INTENSE\\\\normalized_subjects_no_outliner.pkl\",\n",
    "            \"subjects_train\": subjects_train,\n",
    "            \"subjects_test\": subjects_test\n",
    "        }\n",
    "        acc_tester = AccuracyTester(acc_tester_hyperparameter, filter=filter, device=\"cuda:0\")\n",
    "\n",
    "        acc = acc_tester.test_model(max_depth=16)\n",
    "\n",
    "    with open(saving_path, mode='a') as result_file:\n",
    "        results_writer = csv.writer(result_file, delimiter=',', quotechar='\"', quoting=csv.QUOTE_MINIMAL)\n",
    "        results_writer.writerow([subj, acc*100])"
   ]
  }
 ],
 "metadata": {
  "kernelspec": {
   "display_name": "Python 3.8.15",
   "language": "python",
   "name": "python3"
  },
  "language_info": {
   "codemirror_mode": {
    "name": "ipython",
    "version": 3
   },
   "file_extension": ".py",
   "mimetype": "text/x-python",
   "name": "python",
   "nbconvert_exporter": "python",
   "pygments_lexer": "ipython3",
   "version": "3.8.15"
  },
  "orig_nbformat": 4,
  "vscode": {
   "interpreter": {
    "hash": "15553fa20e7e98b2aa17988b3683b9c4372a086618e2f531c95263c140b6e43e"
   }
  }
 },
 "nbformat": 4,
 "nbformat_minor": 2
}
