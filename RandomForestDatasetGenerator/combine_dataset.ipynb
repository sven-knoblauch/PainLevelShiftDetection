{
 "cells": [
  {
   "cell_type": "code",
   "execution_count": 1,
   "metadata": {},
   "outputs": [],
   "source": [
    "import pandas as pd\n",
    "import os\n",
    "from tqdm import tqdm"
   ]
  },
  {
   "cell_type": "code",
   "execution_count": 2,
   "metadata": {},
   "outputs": [],
   "source": [
    "path_saving_files = \"D:\\Workspace\\workspace_masterarbeit\\PainLevelShiftDetection\\RandomForestDatasetGenerator\\datasets_random_forest\\\\no_embeddings_abs\\\\\""
   ]
  },
  {
   "cell_type": "code",
   "execution_count": 13,
   "metadata": {},
   "outputs": [
    {
     "name": "stderr",
     "output_type": "stream",
     "text": [
      "100%|██████████| 130/130 [05:32<00:00,  2.56s/it]\n"
     ]
    }
   ],
   "source": [
    "dataframe = pd.DataFrame([])\n",
    "for file in tqdm(os.listdir(path_saving_files)):\n",
    "    tmp = pd.read_pickle(path_saving_files+file)\n",
    "    dataframe = pd.concat([dataframe, tmp])"
   ]
  },
  {
   "cell_type": "code",
   "execution_count": 14,
   "metadata": {},
   "outputs": [],
   "source": [
    "dataframe.to_pickle(path_saving_files+\"all_samples.pkl\")"
   ]
  }
 ],
 "metadata": {
  "kernelspec": {
   "display_name": "Python 3.10.4",
   "language": "python",
   "name": "python3"
  },
  "language_info": {
   "codemirror_mode": {
    "name": "ipython",
    "version": 3
   },
   "file_extension": ".py",
   "mimetype": "text/x-python",
   "name": "python",
   "nbconvert_exporter": "python",
   "pygments_lexer": "ipython3",
   "version": "3.10.4"
  },
  "orig_nbformat": 4,
  "vscode": {
   "interpreter": {
    "hash": "4eef61a7b0f179811b21666adaca2eddf4327132c8a5532deea9676baf493691"
   }
  }
 },
 "nbformat": 4,
 "nbformat_minor": 2
}
