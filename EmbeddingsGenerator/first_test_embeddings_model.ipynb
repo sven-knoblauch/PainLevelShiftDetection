{
 "cells": [
  {
   "cell_type": "markdown",
   "metadata": {},
   "source": [
    "# Imports"
   ]
  },
  {
   "cell_type": "code",
   "execution_count": 1,
   "metadata": {},
   "outputs": [],
   "source": [
    "import warnings\n",
    "warnings.filterwarnings('ignore')\n",
    "from classes.siamese_model import EmbeddingTrainer, EmbeddingsModel\n",
    "import time\n",
    "import csv\n",
    "import pandas as pd\n",
    "from tqdm.auto import tqdm\n",
    "import seaborn as sns\n",
    "sns.set_theme()\n"
   ]
  },
  {
   "cell_type": "markdown",
   "metadata": {},
   "source": [
    "# data for xite"
   ]
  },
  {
   "cell_type": "code",
   "execution_count": 2,
   "metadata": {},
   "outputs": [],
   "source": [
    "all_subjects_xite = ['S001', 'S002', 'S003', 'S004', 'S005', 'S006', 'S007', 'S008',\n",
    "                'S009', 'S010', 'S011', 'S012', 'S013', 'S014', 'S015', 'S016',\n",
    "                'S017', 'S018', 'S019', 'S020', 'S021', 'S022', 'S023', 'S024',\n",
    "                'S025', 'S026', 'S027', 'S029', 'S031', 'S032', 'S033', 'S034',\n",
    "                'S035', 'S036', 'S037', 'S038', 'S039', 'S040', 'S041', 'S042',\n",
    "                'S043', 'S044', 'S045', 'S046', 'S047', 'S048', 'S049', 'S050',\n",
    "                'S051', 'S052', 'S053', 'S054', 'S055', 'S056', 'S057', 'S058',\n",
    "                'S060', 'S061', 'S062', 'S063', 'S064', 'S065', 'S066', 'S067',\n",
    "                'S068', 'S069', 'S070', 'S071', 'S072', 'S073', 'S074', 'S075',\n",
    "                'S076', 'S077', 'S078', 'S079', 'S080', 'S081', 'S082', 'S083',\n",
    "                'S084', 'S085', 'S086', 'S087', 'S088', 'S089', 'S090', 'S091',\n",
    "                'S092', 'S093', 'S094', 'S095', 'S096', 'S097', 'S098', 'S099',\n",
    "                'S100', 'S101', 'S102', 'S103', 'S104', 'S105', 'S106', 'S107',\n",
    "                'S109', 'S110', 'S111', 'S112', 'S113', 'S114', 'S115', 'S116',\n",
    "                'S117', 'S118', 'S119', 'S120', 'S121', 'S122', 'S123', 'S124',\n",
    "                'S125', 'S126', 'S127', 'S128', 'S129', 'S130', 'S131', 'S132',\n",
    "                'S133', 'S134']"
   ]
  },
  {
   "cell_type": "code",
   "execution_count": 3,
   "metadata": {},
   "outputs": [],
   "source": [
    "path = \"D:\\Workspace\\workspace_masterarbeit\\PainLevelShiftDetection\\FeatureGeneration\\dataset_processed\\XITE\\\\normalized_subjects.pkl\"\n",
    "filter = lambda data: (data[\"label\"] == 3) + (data[\"label\"] == 6)"
   ]
  },
  {
   "cell_type": "markdown",
   "metadata": {},
   "source": [
    "# data for intense"
   ]
  },
  {
   "cell_type": "code",
   "execution_count": 4,
   "metadata": {},
   "outputs": [],
   "source": [
    "intense_path = \"D:\\Workspace\\workspace_masterarbeit\\PainLevelShiftDetection\\FeatureGeneration\\dataset_processed\\INTENSE\\\\normalized_subjects.pkl\"\n",
    "data = pd.read_pickle(intense_path)\n",
    "all_subjects_intense = data[\"subject\"].unique()"
   ]
  },
  {
   "cell_type": "markdown",
   "metadata": {},
   "source": [
    "# training loop"
   ]
  },
  {
   "cell_type": "code",
   "execution_count": 4,
   "metadata": {},
   "outputs": [],
   "source": [
    "filename_saving = 'D:\\Workspace\\workspace_masterarbeit\\Results\\FeatureClassificationTesting\\intense.csv'"
   ]
  },
  {
   "cell_type": "code",
   "execution_count": null,
   "metadata": {},
   "outputs": [],
   "source": [
    "for i in tqdm(range(len(all_subjects_xite))):\n",
    "    subjects_test = [all_subjects_xite[i]]\n",
    "    subjects_train = [sub for sub in all_subjects_xite if sub not in subjects_test]\n",
    "    \n",
    "    trainer_hyperparameter = {\n",
    "    \"path_train\": \"D:\\Workspace\\workspace_masterarbeit\\PainLevelShiftDetection\\FeatureGeneration\\dataset_processed\\XITE\\\\normalized_subjects.pkl\",\n",
    "    \"subjects_train\": subjects_train,\n",
    "    \"path_test\": \"D:\\Workspace\\workspace_masterarbeit\\PainLevelShiftDetection\\FeatureGeneration\\dataset_processed\\XITE\\\\normalized_subjects.pkl\",\n",
    "    \"subjects_test\": subjects_test,\n",
    "    \"acc_tester_metric\": \"AMI\",\n",
    "    \"wandb\": False,\n",
    "    \"acc_in_loop\": False,\n",
    "    \"learning_rate\": 0.001,\n",
    "    \"batch_size\": 256,\n",
    "    \"margin\": 0.03057,\n",
    "    \"distance\": 0,\n",
    "    \"filter\": None\n",
    "    }\n",
    "\n",
    "    model_hyperparameter = {\n",
    "        \"sigmoid\": True,\n",
    "        \"dropout\": 0.2,\n",
    "        \"fc1\": 512,\n",
    "        \"fc2\": 1024,\n",
    "        \"fc3\": 512,\n",
    "    }\n",
    "\n",
    "    model = EmbeddingsModel(model_hyperparameter)        \n",
    "    trainer = EmbeddingTrainer(trainer_hyperparameter, model, device=\"cuda:0\")\n",
    "    trainer.trainloop(15)\n",
    "\n",
    "    start = time.time()\n",
    "    acc_with_embedding = trainer.test_accuracy()\n",
    "    end = time.time()\n",
    "    t_with_embedding = end-start\n",
    "\n",
    "    \n",
    "    data = [subjects_test[0], acc_with_embedding*100, t_with_embedding]\n",
    "    with open(filename_saving, 'a', encoding='UTF8', newline='') as f:\n",
    "        writer = csv.writer(f)\n",
    "        writer.writerow(data)"
   ]
  }
 ],
 "metadata": {
  "kernelspec": {
   "display_name": "Python 3.8.15",
   "language": "python",
   "name": "python3"
  },
  "language_info": {
   "codemirror_mode": {
    "name": "ipython",
    "version": 3
   },
   "file_extension": ".py",
   "mimetype": "text/x-python",
   "name": "python",
   "nbconvert_exporter": "python",
   "pygments_lexer": "ipython3",
   "version": "3.8.15"
  },
  "orig_nbformat": 4,
  "vscode": {
   "interpreter": {
    "hash": "15553fa20e7e98b2aa17988b3683b9c4372a086618e2f531c95263c140b6e43e"
   }
  }
 },
 "nbformat": 4,
 "nbformat_minor": 2
}
