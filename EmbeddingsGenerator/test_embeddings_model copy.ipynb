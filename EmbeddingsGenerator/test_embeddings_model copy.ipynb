{
 "cells": [
  {
   "cell_type": "markdown",
   "metadata": {},
   "source": [
    "# Imports"
   ]
  },
  {
   "cell_type": "code",
   "execution_count": 1,
   "metadata": {},
   "outputs": [],
   "source": [
    "import warnings\n",
    "warnings.filterwarnings('ignore')\n",
    "from classes.embeddings_model import PainDataset\n",
    "import time\n",
    "import csv\n",
    "from tqdm.auto import tqdm\n",
    "import seaborn as sns\n",
    "sns.set_theme()\n",
    "import pandas as pd\n",
    "import torch\n",
    "import numpy as np\n",
    "from sklearn.ensemble import RandomForestClassifier"
   ]
  },
  {
   "cell_type": "code",
   "execution_count": 2,
   "metadata": {},
   "outputs": [],
   "source": [
    "path = \"D:\\Workspace\\workspace_masterarbeit\\FeatureGeneration\\dataset_processed\\INTENSE\\\\normalized_subjects.pkl\""
   ]
  },
  {
   "cell_type": "code",
   "execution_count": 3,
   "metadata": {},
   "outputs": [],
   "source": [
    "data = pd.read_pickle(path)\n",
    "all_subjects = data[\"subject\"].unique()"
   ]
  },
  {
   "cell_type": "code",
   "execution_count": 24,
   "metadata": {},
   "outputs": [],
   "source": [
    "subjects_valid = [all_subjects[0]]\n",
    "subjects_train = [sub for sub in all_subjects if sub not in subjects_valid]"
   ]
  },
  {
   "cell_type": "code",
   "execution_count": 25,
   "metadata": {},
   "outputs": [],
   "source": [
    "dataset_train = PainDataset(path, subjects=subjects_train)\n",
    "dataset_valid = PainDataset(path, subjects=subjects_valid)"
   ]
  },
  {
   "cell_type": "code",
   "execution_count": 26,
   "metadata": {},
   "outputs": [
    {
     "data": {
      "text/plain": [
       "0.9444444444444444"
      ]
     },
     "execution_count": 26,
     "metadata": {},
     "output_type": "execute_result"
    }
   ],
   "source": [
    "train_data = torch.tensor(dataset_train.data.drop([\"pain\", \"subject\"], axis=1).values, dtype=torch.float32)\n",
    "train_data = train_data.numpy()\n",
    "train_label = dataset_train.data[\"pain\"]\n",
    "\n",
    "#prep test data\n",
    "test_data = torch.tensor(dataset_valid.data.drop([\"pain\", \"subject\"], axis=1).values, dtype=torch.float32)\n",
    "test_data = test_data.numpy()\n",
    "test_label = dataset_valid.data[\"pain\"]\n",
    "\n",
    "#train forest and predict on test data\n",
    "clf = RandomForestClassifier(max_depth=25, random_state=0)\n",
    "clf.fit(train_data, train_label)\n",
    "prediction = clf.predict(test_data)\n",
    "\n",
    "np.sum(prediction == test_label)/len(test_label)"
   ]
  },
  {
   "cell_type": "code",
   "execution_count": null,
   "metadata": {},
   "outputs": [],
   "source": []
  },
  {
   "cell_type": "code",
   "execution_count": null,
   "metadata": {},
   "outputs": [],
   "source": []
  },
  {
   "cell_type": "code",
   "execution_count": null,
   "metadata": {},
   "outputs": [],
   "source": []
  },
  {
   "cell_type": "code",
   "execution_count": null,
   "metadata": {},
   "outputs": [],
   "source": []
  }
 ],
 "metadata": {
  "kernelspec": {
   "display_name": "Python 3.10.4",
   "language": "python",
   "name": "python3"
  },
  "language_info": {
   "codemirror_mode": {
    "name": "ipython",
    "version": 3
   },
   "file_extension": ".py",
   "mimetype": "text/x-python",
   "name": "python",
   "nbconvert_exporter": "python",
   "pygments_lexer": "ipython3",
   "version": "3.10.4"
  },
  "orig_nbformat": 4,
  "vscode": {
   "interpreter": {
    "hash": "4eef61a7b0f179811b21666adaca2eddf4327132c8a5532deea9676baf493691"
   }
  }
 },
 "nbformat": 4,
 "nbformat_minor": 2
}
