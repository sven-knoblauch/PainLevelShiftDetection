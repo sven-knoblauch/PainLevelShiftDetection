{
 "cells": [
  {
   "attachments": {},
   "cell_type": "markdown",
   "metadata": {},
   "source": [
    "### Imports"
   ]
  },
  {
   "cell_type": "code",
   "execution_count": 1,
   "metadata": {},
   "outputs": [],
   "source": [
    "import sys\n",
    "sys.path.insert(0, 'D:\\Workspace\\workspace_masterarbeit\\PainLevelShiftDetection\\Classes')\n",
    "\n",
    "import warnings\n",
    "warnings.filterwarnings('ignore')\n",
    "\n",
    "from models import ClassificationModel, EmbeddingsModel, SiameseModel\n",
    "from trainer import SiameseTrainerCombinationDataset, all_subjects\n",
    "\n",
    "import torch\n",
    "import json"
   ]
  },
  {
   "attachments": {},
   "cell_type": "markdown",
   "metadata": {},
   "source": [
    "\n",
    "### Set Hyperparameters"
   ]
  },
  {
   "cell_type": "code",
   "execution_count": 15,
   "metadata": {},
   "outputs": [],
   "source": [
    "trainer_hyperparameter = {\n",
    "    \"path\": \"D:\\Workspace\\workspace_masterarbeit\\PainLevelShiftDetection\\FeatureGeneration\\dataset_processed\\XITE\\\\normalized_subjects_no_outliner.pkl\",\n",
    "    \"subjects_train\": all_subjects,\n",
    "    \"wandb\": False,\n",
    "    \"log\": True,\n",
    "    \"learning_rate\": 0.001,\n",
    "    \"batch_size\": 256,\n",
    "    \"dataset_ignore_subject_train\": True,\n",
    "    \"decision_function\": 0,\n",
    "    \"filter\": [-1, -2, -3],\n",
    "    \"weight_decay\": 0,\n",
    "    \"lr_steps\": 10,\n",
    "    \"adam\": True,\n",
    "    \"number_steps\": 200\n",
    "}\n",
    "\n",
    "model_embedding_hyperparameter = {\n",
    "        \"sigmoid\": False,\n",
    "        \"dropout\": 0.6,\n",
    "        \"layers\": [207, 128, 64]\n",
    "}\n",
    "\n",
    "model_classifier_hyperparameter = {\n",
    "    \"dropout\": 0.6,\n",
    "    \"layers\": [64, 32]\n",
    "}"
   ]
  },
  {
   "attachments": {},
   "cell_type": "markdown",
   "metadata": {},
   "source": [
    "### Init models"
   ]
  },
  {
   "cell_type": "code",
   "execution_count": 16,
   "metadata": {},
   "outputs": [],
   "source": [
    "classifier_model = ClassificationModel(model_classifier_hyperparameter)\n",
    "embedding_model = EmbeddingsModel(model_embedding_hyperparameter)\n",
    "\n",
    "siamese_model = SiameseModel(embedding_model, classifier_model, decision_function=trainer_hyperparameter[\"decision_function\"])\n",
    "\n",
    "# #\n",
    "#  0 = abs(sub())\n",
    "#  1 = euclid\n",
    "#  2 = cos_simil\n",
    "# #"
   ]
  },
  {
   "cell_type": "code",
   "execution_count": 18,
   "metadata": {},
   "outputs": [],
   "source": [
    "filter = lambda data: data[\"label\"].isin(trainer_hyperparameter[\"filter\"])\n",
    "trainer = SiameseTrainerCombinationDataset(trainer_hyperparameter, siamese_model, device=\"cuda:0\", filter=filter)"
   ]
  },
  {
   "attachments": {},
   "cell_type": "markdown",
   "metadata": {},
   "source": [
    "### start training"
   ]
  },
  {
   "cell_type": "code",
   "execution_count": 19,
   "metadata": {},
   "outputs": [
    {
     "name": "stdout",
     "output_type": "stream",
     "text": [
      "epoch: 1 | train_acc: 0.5582 | test_acc: 0.7081\n",
      "epoch: 2 | train_acc: 0.6853 | test_acc: 0.756\n",
      "epoch: 3 | train_acc: 0.7075 | test_acc: 0.7639\n",
      "epoch: 4 | train_acc: 0.7134 | test_acc: 0.7632\n",
      "epoch: 5 | train_acc: 0.717 | test_acc: 0.7654\n",
      "epoch: 6 | train_acc: 0.7214 | test_acc: 0.7695\n",
      "epoch: 7 | train_acc: 0.7229 | test_acc: 0.7715\n",
      "epoch: 8 | train_acc: 0.7283 | test_acc: 0.7723\n",
      "epoch: 9 | train_acc: 0.7289 | test_acc: 0.7681\n",
      "epoch: 10 | train_acc: 0.7364 | test_acc: 0.773\n",
      "epoch: 11 | train_acc: 0.7351 | test_acc: 0.7718\n",
      "epoch: 12 | train_acc: 0.738 | test_acc: 0.7706\n",
      "epoch: 13 | train_acc: 0.7377 | test_acc: 0.7709\n",
      "epoch: 14 | train_acc: 0.7465 | test_acc: 0.7737\n",
      "epoch: 15 | train_acc: 0.7415 | test_acc: 0.7723\n",
      "epoch: 16 | train_acc: 0.7479 | test_acc: 0.774\n",
      "epoch: 17 | train_acc: 0.7437 | test_acc: 0.7733\n",
      "epoch: 18 | train_acc: 0.7452 | test_acc: 0.7761\n",
      "epoch: 19 | train_acc: 0.7488 | test_acc: 0.778\n",
      "epoch: 20 | train_acc: 0.7494 | test_acc: 0.7778\n"
     ]
    }
   ],
   "source": [
    "trainer.trainloop(20)"
   ]
  },
  {
   "cell_type": "code",
   "execution_count": 20,
   "metadata": {},
   "outputs": [],
   "source": [
    "#trainer.plot_history()"
   ]
  },
  {
   "attachments": {},
   "cell_type": "markdown",
   "metadata": {},
   "source": [
    "### plot additional result data"
   ]
  },
  {
   "cell_type": "code",
   "execution_count": 21,
   "metadata": {},
   "outputs": [
    {
     "name": "stdout",
     "output_type": "stream",
     "text": [
      "acc: 0.778\n"
     ]
    }
   ],
   "source": [
    "best_epoch = max(trainer.history, key=lambda x:x['test_acc'])[\"epoch\"]\n",
    "cm = trainer.history_cm[best_epoch-1][\"cm\"]\n",
    "\n",
    "print(\"acc:\", trainer.history[best_epoch-1][\"test_acc\"])"
   ]
  },
  {
   "cell_type": "code",
   "execution_count": 22,
   "metadata": {},
   "outputs": [
    {
     "data": {
      "text/plain": [
       "{'recall': 0.7584544513087883,\n",
       " 'precision': 0.8200702729835129,\n",
       " 'f1': 0.7880598122518646}"
      ]
     },
     "execution_count": 22,
     "metadata": {},
     "output_type": "execute_result"
    }
   ],
   "source": [
    "trainer.calculate_f_scores(cm)"
   ]
  },
  {
   "cell_type": "code",
   "execution_count": 23,
   "metadata": {},
   "outputs": [
    {
     "data": {
      "image/png": "[encoded data removed]",
      "text/plain": [
       "<Figure size 640x480 with 1 Axes>"
      ]
     },
     "metadata": {},
     "output_type": "display_data"
    }
   ],
   "source": [
    "trainer.plot_cm(cm)"
   ]
  }
 ],
 "metadata": {
  "kernelspec": {
   "display_name": "Python 3.8.15",
   "language": "python",
   "name": "python3"
  },
  "language_info": {
   "codemirror_mode": {
    "name": "ipython",
    "version": 3
   },
   "file_extension": ".py",
   "mimetype": "text/x-python",
   "name": "python",
   "nbconvert_exporter": "python",
   "pygments_lexer": "ipython3",
   "version": "3.8.15"
  },
  "orig_nbformat": 4,
  "vscode": {
   "interpreter": {
    "hash": "15553fa20e7e98b2aa17988b3683b9c4372a086618e2f531c95263c140b6e43e"
   }
  }
 },
 "nbformat": 4,
 "nbformat_minor": 2
}
