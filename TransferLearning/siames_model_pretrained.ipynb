{
 "cells": [
  {
   "attachments": {},
   "cell_type": "markdown",
   "metadata": {},
   "source": [
    "### Imports"
   ]
  },
  {
   "cell_type": "code",
   "execution_count": 1,
   "metadata": {},
   "outputs": [],
   "source": [
    "import sys\n",
    "sys.path.insert(0, 'D:\\Workspace\\workspace_masterarbeit\\PainLevelShiftDetection\\Classes')\n",
    "\n",
    "import warnings\n",
    "warnings.filterwarnings('ignore')\n",
    "\n",
    "from models import ClassificationModel, EmbeddingsModel, SiameseModel\n",
    "from trainer import SiameseTrainerCombinationDataset, all_subjects_intense\n",
    "\n",
    "import torch\n",
    "import json\n",
    "import numpy as np\n",
    "import csv\n",
    "from tqdm import tqdm"
   ]
  },
  {
   "attachments": {},
   "cell_type": "markdown",
   "metadata": {},
   "source": [
    "\n",
    "### Set Hyperparameters"
   ]
  },
  {
   "cell_type": "code",
   "execution_count": 48,
   "metadata": {},
   "outputs": [
    {
     "data": {
      "text/plain": [
       "['1', '10']"
      ]
     },
     "execution_count": 48,
     "metadata": {},
     "output_type": "execute_result"
    }
   ],
   "source": [
    "x=0\n",
    "all_subjects_intense[int(x*2.4):int((x+1)*2.4)]"
   ]
  },
  {
   "cell_type": "code",
   "execution_count": 90,
   "metadata": {},
   "outputs": [],
   "source": [
    "subjects_test = all_subjects_intense[:1]\n",
    "subjects_train = [sub for sub in all_subjects_intense if sub not in subjects_test]"
   ]
  },
  {
   "cell_type": "code",
   "execution_count": 97,
   "metadata": {},
   "outputs": [],
   "source": [
    "trainer_hyperparameter = {\n",
    "    \"path\": \"D:\\Workspace\\workspace_masterarbeit\\PainLevelShiftDetection\\FeatureGeneration\\dataset_processed\\INTENSE\\\\normalized_subjects_no_outliner.pkl\",\n",
    "    \"subjects_train\": subjects_train,\n",
    "    \"subjects_test\": subjects_test,\n",
    "    \"wandb\": False,\n",
    "    \"log\": True,\n",
    "    \"learning_rate\": 0.01,\n",
    "    \"batch_size\": 256,\n",
    "    \"batch_size_test\": 256,\n",
    "    \"freeze_embed\": False,\n",
    "    \"dataset_ignore_subject_train\": True,\n",
    "    \"dataset_ignore_subject_test\": False,\n",
    "    \"decision_function\": 0,\n",
    "    \"filter\": [],\n",
    "    \"weight_decay\": 0.0015,\n",
    "    \"lr_steps\": 10,\n",
    "    \"adam\": True,\n",
    "    \"number_steps\": None,\n",
    "    \"number_steps_testing\": None,\n",
    "    \"number_steps_histogramm\": None\n",
    "}\n",
    "\n",
    "model_embedding_hyperparameter = {\n",
    "        \"sigmoid\": False,\n",
    "        \"dropout\": 0.35,\n",
    "        \"layers\": [207, 512, 64]\n",
    "}\n",
    "\n",
    "model_classifier_hyperparameter = {\n",
    "    \"dropout\": 0.35,\n",
    "    \"layers\": [64, 32]\n",
    "}"
   ]
  },
  {
   "attachments": {},
   "cell_type": "markdown",
   "metadata": {},
   "source": [
    "### Init models"
   ]
  },
  {
   "cell_type": "code",
   "execution_count": 98,
   "metadata": {},
   "outputs": [],
   "source": [
    "classifier_model = ClassificationModel(model_classifier_hyperparameter)\n",
    "embedding_model = EmbeddingsModel(model_embedding_hyperparameter)\n",
    "\n",
    "siamese_model = SiameseModel(embedding_model, classifier_model, decision_function=trainer_hyperparameter[\"decision_function\"])\n",
    "\n",
    "_ = siamese_model.load_state_dict(torch.load(\"D:\\Workspace\\workspace_masterarbeit\\PainLevelShiftDetection\\TransferLearning\\pretrained_models\\model_all.pth\"))"
   ]
  },
  {
   "cell_type": "code",
   "execution_count": 99,
   "metadata": {},
   "outputs": [],
   "source": [
    "trainer = SiameseTrainerCombinationDataset(trainer_hyperparameter, siamese_model, device=\"cuda:0\")"
   ]
  },
  {
   "attachments": {},
   "cell_type": "markdown",
   "metadata": {},
   "source": [
    "### start training"
   ]
  },
  {
   "cell_type": "code",
   "execution_count": 103,
   "metadata": {},
   "outputs": [
    {
     "data": {
      "text/plain": [
       "['1']"
      ]
     },
     "execution_count": 103,
     "metadata": {},
     "output_type": "execute_result"
    }
   ],
   "source": [
    "subjects_test"
   ]
  },
  {
   "cell_type": "code",
   "execution_count": 101,
   "metadata": {},
   "outputs": [
    {
     "name": "stdout",
     "output_type": "stream",
     "text": [
      "epoch: 1 | train_acc: 0.5067 | test_acc: 0.4641\n",
      "epoch: 2 | train_acc: 0.491 | test_acc: 0.5033\n",
      "epoch: 3 | train_acc: 0.4995 | test_acc: 0.4641\n",
      "epoch: 4 | train_acc: 0.6035 | test_acc: 0.5621\n",
      "epoch: 5 | train_acc: 0.6941 | test_acc: 0.8497\n",
      "epoch: 6 | train_acc: 0.7502 | test_acc: 0.8889\n",
      "epoch: 7 | train_acc: 0.8093 | test_acc: 0.7124\n",
      "epoch: 8 | train_acc: 0.8492 | test_acc: 0.8366\n",
      "epoch: 9 | train_acc: 0.8774 | test_acc: 0.7908\n",
      "epoch: 10 | train_acc: 0.9079 | test_acc: 0.8889\n",
      "epoch: 11 | train_acc: 0.9352 | test_acc: 0.8562\n",
      "epoch: 12 | train_acc: 0.9702 | test_acc: 0.8889\n",
      "epoch: 13 | train_acc: 0.9747 | test_acc: 0.8889\n",
      "epoch: 14 | train_acc: 0.9818 | test_acc: 0.7908\n",
      "epoch: 15 | train_acc: 0.9851 | test_acc: 0.8889\n",
      "epoch: 16 | train_acc: 0.9854 | test_acc: 0.8824\n",
      "epoch: 17 | train_acc: 0.9871 | test_acc: 0.8758\n",
      "epoch: 18 | train_acc: 0.9905 | test_acc: 0.7974\n",
      "epoch: 19 | train_acc: 0.9931 | test_acc: 0.8562\n",
      "epoch: 20 | train_acc: 0.9923 | test_acc: 0.8889\n",
      "epoch: 21 | train_acc: 0.9936 | test_acc: 0.8889\n",
      "epoch: 22 | train_acc: 0.9959 | test_acc: 0.8889\n",
      "epoch: 23 | train_acc: 0.9956 | test_acc: 0.8889\n",
      "epoch: 24 | train_acc: 0.9982 | test_acc: 0.8889\n",
      "epoch: 25 | train_acc: 0.9973 | test_acc: 0.8889\n",
      "epoch: 26 | train_acc: 0.9977 | test_acc: 0.8889\n",
      "epoch: 27 | train_acc: 0.9982 | test_acc: 0.8889\n",
      "epoch: 28 | train_acc: 0.9986 | test_acc: 0.8889\n",
      "epoch: 29 | train_acc: 0.9989 | test_acc: 0.8889\n",
      "epoch: 30 | train_acc: 0.9989 | test_acc: 0.8889\n",
      "epoch: 31 | train_acc: 0.9993 | test_acc: 0.8889\n",
      "epoch: 32 | train_acc: 0.9982 | test_acc: 0.8889\n",
      "epoch: 33 | train_acc: 0.9989 | test_acc: 0.8889\n",
      "epoch: 34 | train_acc: 0.9991 | test_acc: 0.8889\n",
      "epoch: 35 | train_acc: 0.9996 | test_acc: 0.8889\n",
      "epoch: 36 | train_acc: 0.9977 | test_acc: 0.8889\n",
      "epoch: 37 | train_acc: 0.9993 | test_acc: 0.8889\n",
      "epoch: 38 | train_acc: 1.0 | test_acc: 0.8889\n",
      "epoch: 39 | train_acc: 0.9991 | test_acc: 0.8889\n",
      "epoch: 40 | train_acc: 0.9988 | test_acc: 0.8889\n",
      "epoch: 41 | train_acc: 0.9991 | test_acc: 0.8889\n",
      "epoch: 42 | train_acc: 0.9993 | test_acc: 0.8889\n",
      "epoch: 43 | train_acc: 0.9991 | test_acc: 0.8889\n",
      "epoch: 44 | train_acc: 0.9977 | test_acc: 0.8889\n",
      "epoch: 45 | train_acc: 0.9986 | test_acc: 0.8889\n",
      "epoch: 46 | train_acc: 0.9987 | test_acc: 0.8889\n",
      "epoch: 47 | train_acc: 0.9993 | test_acc: 0.8889\n",
      "epoch: 48 | train_acc: 0.9984 | test_acc: 0.8889\n",
      "epoch: 49 | train_acc: 0.9989 | test_acc: 0.8889\n",
      "epoch: 50 | train_acc: 0.998 | test_acc: 0.8889\n"
     ]
    }
   ],
   "source": [
    "trainer.trainloop(50)"
   ]
  },
  {
   "cell_type": "code",
   "execution_count": 102,
   "metadata": {},
   "outputs": [
    {
     "data": {
      "image/png": "[encoded data removed]",
      "text/plain": [
       "<Figure size 640x480 with 1 Axes>"
      ]
     },
     "metadata": {},
     "output_type": "display_data"
    },
    {
     "data": {
      "image/png": "[encoded data removed]",
      "text/plain": [
       "<Figure size 640x480 with 1 Axes>"
      ]
     },
     "metadata": {},
     "output_type": "display_data"
    }
   ],
   "source": [
    "trainer.plot_history()"
   ]
  },
  {
   "attachments": {},
   "cell_type": "markdown",
   "metadata": {},
   "source": [
    "## LOOP"
   ]
  },
  {
   "cell_type": "code",
   "execution_count": 4,
   "metadata": {},
   "outputs": [],
   "source": [
    "saving_path = \"D:\\Workspace\\workspace_masterarbeit\\PainLevelShiftDetection\\SiameseNetwork\\Results-LOSO\\intense_distance_0_v3_LOSO.csv\""
   ]
  },
  {
   "attachments": {},
   "cell_type": "markdown",
   "metadata": {},
   "source": [
    "LOSO"
   ]
  },
  {
   "cell_type": "code",
   "execution_count": null,
   "metadata": {},
   "outputs": [],
   "source": [
    "for subj in tqdm(all_subjects_intense):\n",
    "    subjects_test = [subj]\n",
    "    subjects_train = [sub for sub in all_subjects_intense if sub not in subjects_test]\n",
    "\n",
    "    trainer_hyperparameter = {\n",
    "        \"path\": \"D:\\Workspace\\workspace_masterarbeit\\PainLevelShiftDetection\\FeatureGeneration\\dataset_processed\\INTENSE\\\\normalized_subjects_no_outliner.pkl\",\n",
    "        \"subjects_train\": subjects_train,\n",
    "        \"subjects_test\": subjects_test,\n",
    "        \"wandb\": False,\n",
    "        \"log\": True,\n",
    "        \"learning_rate\": 0.01,\n",
    "        \"batch_size\": 256,\n",
    "        \"batch_size_test\": 256,\n",
    "        \"freeze_embed\": False,\n",
    "        \"dataset_ignore_subject_train\": True,\n",
    "        \"dataset_ignore_subject_test\": False,\n",
    "        \"decision_function\": 0,\n",
    "        \"filter\": [],\n",
    "        \"weight_decay\": 0.001,\n",
    "        \"lr_steps\": 10,\n",
    "        \"adam\": True,\n",
    "        \"number_steps\": None,\n",
    "        \"number_steps_testing\": None,\n",
    "        \"number_steps_histogramm\": None\n",
    "    }\n",
    "\n",
    "    model_embedding_hyperparameter = {\n",
    "            \"sigmoid\": False,\n",
    "            \"dropout\": 0.35,\n",
    "            \"layers\": [207, 512, 64]\n",
    "    }\n",
    "\n",
    "    model_classifier_hyperparameter = {\n",
    "        \"dropout\": 0.35,\n",
    "        \"layers\": [64, 32]\n",
    "    }\n",
    "\n",
    "    classifier_model = ClassificationModel(model_classifier_hyperparameter)\n",
    "    embedding_model = EmbeddingsModel(model_embedding_hyperparameter)\n",
    "\n",
    "    siamese_model = SiameseModel(embedding_model, classifier_model, decision_function=trainer_hyperparameter[\"decision_function\"])\n",
    "\n",
    "    trainer = SiameseTrainerCombinationDataset(trainer_hyperparameter, siamese_model, device=\"cuda:0\")\n",
    "\n",
    "    trainer.trainloop(40)\n",
    "\n",
    "    best_epoch = max(trainer.history, key=lambda x:x['test_acc'])[\"epoch\"]\n",
    "    cm = trainer.history_cm[best_epoch-1][\"cm\"]\n",
    "    cm_normalized = cm/np.sum(cm,axis=1)\n",
    "\n",
    "    acc = trainer.history[best_epoch-1][\"test_acc\"]\n",
    "    results = trainer.calculate_f_scores(cm)\n",
    "    recall = results[\"recall\"]\n",
    "    precision = results[\"recall\"]\n",
    "    f1 = results[\"recall\"]\n",
    "    tn = cm_normalized[0,0]\n",
    "    fn = cm_normalized[0,1]\n",
    "    fp = cm_normalized[1,0]\n",
    "    tp = cm_normalized[1,1]\n",
    "\n",
    "    with open(saving_path, mode='a') as result_file:\n",
    "            results_writer = csv.writer(result_file, delimiter=',', quotechar='\"', quoting=csv.QUOTE_MINIMAL)\n",
    "            results_writer.writerow([subj, acc*100, recall, precision, f1, tn, fn,fp, tp])"
   ]
  }
 ],
 "metadata": {
  "kernelspec": {
   "display_name": "Python 3.8.15",
   "language": "python",
   "name": "python3"
  },
  "language_info": {
   "codemirror_mode": {
    "name": "ipython",
    "version": 3
   },
   "file_extension": ".py",
   "mimetype": "text/x-python",
   "name": "python",
   "nbconvert_exporter": "python",
   "pygments_lexer": "ipython3",
   "version": "3.8.15"
  },
  "orig_nbformat": 4,
  "vscode": {
   "interpreter": {
    "hash": "15553fa20e7e98b2aa17988b3683b9c4372a086618e2f531c95263c140b6e43e"
   }
  }
 },
 "nbformat": 4,
 "nbformat_minor": 2
}
